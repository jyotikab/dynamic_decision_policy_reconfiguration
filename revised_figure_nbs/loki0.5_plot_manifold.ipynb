{
 "cells": [
  {
   "cell_type": "code",
   "execution_count": 1,
   "metadata": {},
   "outputs": [],
   "source": [
    "import numpy as np\n",
    "import pandas as pd\n",
    "import seaborn as sns\n",
    "import time\n",
    "import os\n",
    "from sys import platform\n",
    "from matplotlib import rc\n",
    "from matplotlib.animation import FuncAnimation\n",
    "import matplotlib.pyplot as plt\n",
    "from matplotlib.ticker import FormatStrFormatter\n",
    "import itertools\n",
    "\n",
    "# from jupyterthemes import jtplot\n",
    "# jtplot.style(context='talk', fscale=2, spines=False, gridlines='--', )\n",
    "\n",
    "\n",
    "# rc('font', **{'family': 'serif', 'serif': ['Computer Modern']})\n",
    "# rc('text', usetex=True)\n",
    "# rc('figure', figsize=(10,5))\n",
    "\n",
    "import matplotlib.pyplot as plt\n",
    "\n",
    "\n",
    "%matplotlib inline"
   ]
  },
  {
   "cell_type": "code",
   "execution_count": 2,
   "metadata": {},
   "outputs": [
    {
     "name": "stdout",
     "output_type": "stream",
     "text": [
      "('linux2', '/lab_data/coaxlab/Projects/dynamic_decision_policy_reconfiguration/')\n"
     ]
    }
   ],
   "source": [
    "if (platform == 'linux2') or (platform == 'linux'):\n",
    "    home = '/lab_data/coaxlab/Projects/dynamic_decision_policy_reconfiguration/'\n",
    "elif platform == 'darwin': \n",
    "    home = '/Users/i_67981492/dynamic_decision_policy_reconfiguration/'\n",
    "    \n",
    "print(platform, home)"
   ]
  },
  {
   "cell_type": "code",
   "execution_count": 3,
   "metadata": {},
   "outputs": [
    {
     "name": "stdout",
     "output_type": "stream",
     "text": [
      "/lab_data/coaxlab/Projects/dynamic_decision_policy_reconfiguration/analysis_revision/loki0.5_acc_av_models/manifold_estimation/\n"
     ]
    }
   ],
   "source": [
    "write_dir = os.path.join(home, 'analysis_revision/loki0.5_acc_av_models/manifold_estimation/'); print(write_dir)"
   ]
  },
  {
   "cell_type": "code",
   "execution_count": 4,
   "metadata": {},
   "outputs": [],
   "source": [
    "av_polar_est_df = pd.read_csv(os.path.join(write_dir, 'av_polar_est_df.csv'))"
   ]
  },
  {
   "cell_type": "code",
   "execution_count": 5,
   "metadata": {},
   "outputs": [
    {
     "data": {
      "text/html": [
       "<div>\n",
       "<style scoped>\n",
       "    .dataframe tbody tr th:only-of-type {\n",
       "        vertical-align: middle;\n",
       "    }\n",
       "\n",
       "    .dataframe tbody tr th {\n",
       "        vertical-align: top;\n",
       "    }\n",
       "\n",
       "    .dataframe thead th {\n",
       "        text-align: right;\n",
       "    }\n",
       "</style>\n",
       "<table border=\"1\" class=\"dataframe\">\n",
       "  <thead>\n",
       "    <tr style=\"text-align: right;\">\n",
       "      <th></th>\n",
       "      <th>mcmc_iteration</th>\n",
       "      <th>shifted_epoch_trial</th>\n",
       "      <th>v</th>\n",
       "      <th>v_est_z</th>\n",
       "      <th>a</th>\n",
       "      <th>a_est_z</th>\n",
       "      <th>r_z</th>\n",
       "      <th>theta_radians_z</th>\n",
       "      <th>theta_deg_z</th>\n",
       "    </tr>\n",
       "  </thead>\n",
       "  <tbody>\n",
       "    <tr>\n",
       "      <th>0</th>\n",
       "      <td>0</td>\n",
       "      <td>-1.0</td>\n",
       "      <td>0.357331</td>\n",
       "      <td>0.767298</td>\n",
       "      <td>0.983536</td>\n",
       "      <td>0.438212</td>\n",
       "      <td>NaN</td>\n",
       "      <td>NaN</td>\n",
       "      <td>NaN</td>\n",
       "    </tr>\n",
       "    <tr>\n",
       "      <th>1</th>\n",
       "      <td>0</td>\n",
       "      <td>0.0</td>\n",
       "      <td>-0.475507</td>\n",
       "      <td>-1.907671</td>\n",
       "      <td>0.971127</td>\n",
       "      <td>-0.300620</td>\n",
       "      <td>2.775128</td>\n",
       "      <td>-1.840280</td>\n",
       "      <td>-105.440254</td>\n",
       "    </tr>\n",
       "    <tr>\n",
       "      <th>2</th>\n",
       "      <td>0</td>\n",
       "      <td>1.0</td>\n",
       "      <td>-0.072172</td>\n",
       "      <td>-0.612213</td>\n",
       "      <td>0.976214</td>\n",
       "      <td>0.002291</td>\n",
       "      <td>1.330402</td>\n",
       "      <td>1.341098</td>\n",
       "      <td>76.839243</td>\n",
       "    </tr>\n",
       "    <tr>\n",
       "      <th>3</th>\n",
       "      <td>0</td>\n",
       "      <td>2.0</td>\n",
       "      <td>0.347012</td>\n",
       "      <td>0.734153</td>\n",
       "      <td>0.947642</td>\n",
       "      <td>-1.698929</td>\n",
       "      <td>2.169528</td>\n",
       "      <td>2.472111</td>\n",
       "      <td>141.641503</td>\n",
       "    </tr>\n",
       "    <tr>\n",
       "      <th>4</th>\n",
       "      <td>0</td>\n",
       "      <td>3.0</td>\n",
       "      <td>0.371451</td>\n",
       "      <td>0.812649</td>\n",
       "      <td>0.991511</td>\n",
       "      <td>0.913071</td>\n",
       "      <td>2.613179</td>\n",
       "      <td>0.030043</td>\n",
       "      <td>1.721330</td>\n",
       "    </tr>\n",
       "  </tbody>\n",
       "</table>\n",
       "</div>"
      ],
      "text/plain": [
       "   mcmc_iteration  shifted_epoch_trial         v   v_est_z         a  \\\n",
       "0               0                 -1.0  0.357331  0.767298  0.983536   \n",
       "1               0                  0.0 -0.475507 -1.907671  0.971127   \n",
       "2               0                  1.0 -0.072172 -0.612213  0.976214   \n",
       "3               0                  2.0  0.347012  0.734153  0.947642   \n",
       "4               0                  3.0  0.371451  0.812649  0.991511   \n",
       "\n",
       "    a_est_z       r_z  theta_radians_z  theta_deg_z  \n",
       "0  0.438212       NaN              NaN          NaN  \n",
       "1 -0.300620  2.775128        -1.840280  -105.440254  \n",
       "2  0.002291  1.330402         1.341098    76.839243  \n",
       "3 -1.698929  2.169528         2.472111   141.641503  \n",
       "4  0.913071  2.613179         0.030043     1.721330  "
      ]
     },
     "execution_count": 5,
     "metadata": {},
     "output_type": "execute_result"
    }
   ],
   "source": [
    "av_polar_est_df.head()"
   ]
  },
  {
   "cell_type": "code",
   "execution_count": 6,
   "metadata": {},
   "outputs": [],
   "source": [
    "def plot_a_v_time(data, fig, ax, write_dir=write_dir, conditional=False, savefig=None,\n",
    "all_subs=False, linestyle='-', legend=True,\n",
    "pooled_mean=False, id_str=None, home=os.path.expanduser('~'), alpha=False):\n",
    "\n",
    "\n",
    "    # hack to get hue to work with lineplots and markers ...\n",
    "\n",
    "    fig_path=write_dir\n",
    "\n",
    "    n_plotted_trials = data.shifted_epoch_trial.nunique()\n",
    "\n",
    "    palette_seed = sns.color_palette('Greens', n_colors=200)[80::10]\n",
    "\n",
    "    assert len(palette_seed) >= n_plotted_trials, 'check n_colors for color palette'\n",
    "\n",
    "    palette = itertools.cycle(palette_seed)\n",
    "\n",
    "    sns.lineplot(data=data, x='a_est_z', y='v_est_z', hue='shifted_epoch_trial', \n",
    "                 palette=palette_seed[:n_plotted_trials], marker='o');\n",
    "\n",
    "    \n",
    "    \n",
    "    x = data.a_est_z\n",
    "    y = data.v_est_z\n",
    "    \n",
    "    if alpha:\n",
    "\n",
    "        for i in range(len(data)):\n",
    "            plt.plot(x.values[i:i+2], y.values[i:i+2], color=next(palette), linestyle=linestyle, linewidth=2.5,\n",
    "                    alpha=0.3)\n",
    "\n",
    "    else: \n",
    "        \n",
    "        for i in range(len(data)):\n",
    "            plt.plot(x.values[i:i+2], y.values[i:i+2], color=next(palette), linestyle=linestyle, linewidth=2.5)\n",
    "    \n",
    "    if conditional is True:\n",
    "        plt.title('subject ' + str(int(data.subj_id.unique()[0])) + ': ' +\n",
    "                '$\\lambda =$ ' + str(int(data.lambda_val.unique()[0])) + ' p = ' + str(data.p_optimal.unique()[0]), fontsize=20)\n",
    "        fig_name = (id_str + str(int(data.subj_id.unique()[0])) + '_' + str(int(data.condition.unique()[0])) +'_a_v_time_color.png')\n",
    "    if all_subs is True:\n",
    "        fig_name = (id_str + 'all_conditions_all_subs_a_v_time_color.png')\n",
    "    if pooled_mean is True:\n",
    "        fig_name = (id_str + 'mean_a_v_time_color.png')\n",
    "\n",
    "    # else:\n",
    "    #     plt.title('subject ' + str(int(data.subj_id.unique()[0])), fontsize=20)\n",
    "    #     fig_name = (str(int(data.subj_id.unique()[0])) +'_all_conditions_a_v_time_color.png')\n",
    "\n",
    "\n",
    "    plt.xlabel(r'Boundary height ($\\hat{a}$)')\n",
    "    plt.ylabel(r'Drift rate ($\\hat{v}$)')\n",
    "\n",
    "    if legend:\n",
    "        legend = ax.legend()\n",
    "        legend.texts[0].set_text(\"epoch trial\")\n",
    "    else:\n",
    "        ax.get_legend().remove()\n",
    "\n",
    "\n",
    "    if savefig:\n",
    "\n",
    "        plt.savefig(os.path.join(fig_path, fig_name))\n",
    "\n",
    "\n",
    "    return fig, ax"
   ]
  },
  {
   "cell_type": "code",
   "execution_count": 7,
   "metadata": {},
   "outputs": [
    {
     "data": {
      "text/plain": [
       "array([nan])"
      ]
     },
     "execution_count": 7,
     "metadata": {},
     "output_type": "execute_result"
    }
   ],
   "source": [
    "av_polar_est_df.loc[av_polar_est_df.shifted_epoch_trial == -1].r_z.unique()"
   ]
  },
  {
   "cell_type": "code",
   "execution_count": 8,
   "metadata": {},
   "outputs": [
    {
     "data": {
      "text/html": [
       "<div>\n",
       "<style scoped>\n",
       "    .dataframe tbody tr th:only-of-type {\n",
       "        vertical-align: middle;\n",
       "    }\n",
       "\n",
       "    .dataframe tbody tr th {\n",
       "        vertical-align: top;\n",
       "    }\n",
       "\n",
       "    .dataframe thead th {\n",
       "        text-align: right;\n",
       "    }\n",
       "</style>\n",
       "<table border=\"1\" class=\"dataframe\">\n",
       "  <thead>\n",
       "    <tr style=\"text-align: right;\">\n",
       "      <th></th>\n",
       "      <th>shifted_epoch_trial</th>\n",
       "      <th>a_est_z</th>\n",
       "      <th>v_est_z</th>\n",
       "    </tr>\n",
       "  </thead>\n",
       "  <tbody>\n",
       "    <tr>\n",
       "      <th>0</th>\n",
       "      <td>-1.0</td>\n",
       "      <td>-0.018632</td>\n",
       "      <td>0.648173</td>\n",
       "    </tr>\n",
       "    <tr>\n",
       "      <th>1</th>\n",
       "      <td>0.0</td>\n",
       "      <td>0.061755</td>\n",
       "      <td>-1.603853</td>\n",
       "    </tr>\n",
       "    <tr>\n",
       "      <th>2</th>\n",
       "      <td>1.0</td>\n",
       "      <td>0.234660</td>\n",
       "      <td>-0.638723</td>\n",
       "    </tr>\n",
       "    <tr>\n",
       "      <th>3</th>\n",
       "      <td>2.0</td>\n",
       "      <td>-0.802722</td>\n",
       "      <td>0.649204</td>\n",
       "    </tr>\n",
       "    <tr>\n",
       "      <th>4</th>\n",
       "      <td>3.0</td>\n",
       "      <td>0.524939</td>\n",
       "      <td>0.945198</td>\n",
       "    </tr>\n",
       "  </tbody>\n",
       "</table>\n",
       "</div>"
      ],
      "text/plain": [
       "   shifted_epoch_trial   a_est_z   v_est_z\n",
       "0                 -1.0 -0.018632  0.648173\n",
       "1                  0.0  0.061755 -1.603853\n",
       "2                  1.0  0.234660 -0.638723\n",
       "3                  2.0 -0.802722  0.649204\n",
       "4                  3.0  0.524939  0.945198"
      ]
     },
     "execution_count": 8,
     "metadata": {},
     "output_type": "execute_result"
    }
   ],
   "source": [
    "mean_av_df = av_polar_est_df.groupby(['shifted_epoch_trial'])[['a_est_z', 'v_est_z']].mean().reset_index() # only plot t-1-3\n",
    "\n",
    "mean_av_df.head()"
   ]
  },
  {
   "cell_type": "code",
   "execution_count": 9,
   "metadata": {},
   "outputs": [],
   "source": [
    "\n",
    "# plot_a_v_time(av_polar_est_df, fig, ax, conditional=False, savefig=True,\n",
    "# all_subs=True, pooled_mean=True, legend=False, id_str='loki_0_')"
   ]
  },
  {
   "cell_type": "code",
   "execution_count": 10,
   "metadata": {},
   "outputs": [
    {
     "data": {
      "image/png": "[encoded data removed]",
      "text/plain": [
       "<Figure size 432x288 with 1 Axes>"
      ]
     },
     "metadata": {},
     "output_type": "display_data"
    }
   ],
   "source": [
    "sns.set_context(\"talk\", font_scale=1)\n",
    "\n",
    "sns.set_style('whitegrid')\n",
    "\n",
    "fig, ax = plt.subplots()\n",
    "\n",
    "for it in av_polar_est_df.mcmc_iteration.unique()[:2]:\n",
    "    \n",
    "    dat = av_polar_est_df.loc[av_polar_est_df.mcmc_iteration == it].copy()\n",
    "\n",
    "\n",
    "    plot_a_v_time(dat, fig, ax, conditional=False, savefig=True\n",
    "                  ,\n",
    "    all_subs=True, pooled_mean=True, legend=False, id_str='loki_0_', alpha=True)\n",
    "\n",
    "sns.despine(left=True, bottom=True)\n",
    "plt.tight_layout()\n",
    "# plt.savefig(os.path.join(write_dir, 'loki0.5_manifold_avg.png'))"
   ]
  },
  {
   "cell_type": "code",
   "execution_count": 11,
   "metadata": {},
   "outputs": [
    {
     "data": {
      "image/png": "[encoded data removed]",
      "text/plain": [
       "<Figure size 432x288 with 1 Axes>"
      ]
     },
     "metadata": {},
     "output_type": "display_data"
    }
   ],
   "source": [
    "sns.set_context(\"talk\", font_scale=1)\n",
    "\n",
    "sns.set_style('whitegrid')\n",
    "\n",
    "fig, ax = plt.subplots()\n",
    "\n",
    "plot_a_v_time(mean_av_df, fig, ax, conditional=False, savefig=True,\n",
    "all_subs=True, pooled_mean=True, legend=False, id_str='loki_0_')\n",
    "\n",
    "sns.despine(left=True, bottom=True)\n",
    "plt.tight_layout()\n",
    "# plt.axis('equal')\n",
    "plt.savefig(os.path.join(write_dir, 'loki0.5_manifold_avg.pdf'))"
   ]
  },
  {
   "cell_type": "code",
   "execution_count": null,
   "metadata": {},
   "outputs": [],
   "source": []
  }
 ],
 "metadata": {
  "kernelspec": {
   "display_name": "Python 2",
   "language": "python",
   "name": "python2"
  },
  "language_info": {
   "codemirror_mode": {
    "name": "ipython",
    "version": 2
   },
   "file_extension": ".py",
   "mimetype": "text/x-python",
   "name": "python",
   "nbconvert_exporter": "python",
   "pygments_lexer": "ipython2",
   "version": "2.7.18"
  }
 },
 "nbformat": 4,
 "nbformat_minor": 5
}
