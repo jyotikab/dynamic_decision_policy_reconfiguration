{
 "cells": [
  {
   "cell_type": "code",
   "execution_count": 17,
   "metadata": {},
   "outputs": [],
   "source": [
    "import matplotlib.pyplot as plt\n",
    "import numpy as np\n",
    "import pandas as pd\n",
    "from scipy.stats import zscore\n",
    "import seaborn as sns\n",
    "import time\n",
    "from sys import platform\n",
    "import os \n",
    "# print(hddm.__version__)\n",
    "\n",
    "%matplotlib inline\n",
    "# plt.rcParams['figure.figsize'] = 30, 10\n",
    "sns.set_context(\"notebook\", font_scale=2)"
   ]
  },
  {
   "cell_type": "code",
   "execution_count": 18,
   "metadata": {},
   "outputs": [
    {
     "name": "stdout",
     "output_type": "stream",
     "text": [
      "linux /lab_data/coaxlab/Projects/dynamic_decision_policy_reconfiguration/\n"
     ]
    }
   ],
   "source": [
    "if platform == 'linux':\n",
    "    home = '/lab_data/coaxlab/Projects/dynamic_decision_policy_reconfiguration/'\n",
    "elif platform == 'darwin': \n",
    "    home = '/Users/i_67981492/dynamic_decision_policy_reconfiguration/'\n",
    "    \n",
    "print(platform, home)"
   ]
  },
  {
   "cell_type": "code",
   "execution_count": 39,
   "metadata": {},
   "outputs": [
    {
     "name": "stdout",
     "output_type": "stream",
     "text": [
      "/lab_data/coaxlab/Projects/dynamic_decision_policy_reconfiguration/analysis_revision/loki0.5_acc_av_models/single_param_model_traces/\n",
      "/lab_data/coaxlab/Projects/dynamic_decision_policy_reconfiguration/analysis_revision/loki0.5_acc_av_models/manifold_estimation/\n"
     ]
    }
   ],
   "source": [
    "data_dir = os.path.join(home, 'analysis_revision/loki0.5_acc_av_models/single_param_model_traces/'); print(data_dir)\n",
    "write_dir = os.path.join(home, 'analysis_revision/loki0.5_acc_av_models/manifold_estimation/'); print(write_dir)"
   ]
  },
  {
   "cell_type": "code",
   "execution_count": 40,
   "metadata": {},
   "outputs": [],
   "source": [
    "a_df = pd.read_csv(os.path.join(data_dir, 'a_shifted_epoch_trial_traces.csv')).dropna(axis='rows')\n",
    "v_df = pd.read_csv(os.path.join(data_dir, 'v_shifted_epoch_trial_traces.csv')).dropna(axis='rows')"
   ]
  },
  {
   "cell_type": "code",
   "execution_count": 41,
   "metadata": {},
   "outputs": [
    {
     "data": {
      "text/html": [
       "<div>\n",
       "<style scoped>\n",
       "    .dataframe tbody tr th:only-of-type {\n",
       "        vertical-align: middle;\n",
       "    }\n",
       "\n",
       "    .dataframe tbody tr th {\n",
       "        vertical-align: top;\n",
       "    }\n",
       "\n",
       "    .dataframe thead th {\n",
       "        text-align: right;\n",
       "    }\n",
       "</style>\n",
       "<table border=\"1\" class=\"dataframe\">\n",
       "  <thead>\n",
       "    <tr style=\"text-align: right;\">\n",
       "      <th></th>\n",
       "      <th>mcmc_iteration</th>\n",
       "      <th>shifted_epoch_trial</th>\n",
       "      <th>v</th>\n",
       "      <th>model</th>\n",
       "      <th>ddm_param</th>\n",
       "    </tr>\n",
       "  </thead>\n",
       "  <tbody>\n",
       "    <tr>\n",
       "      <th>0</th>\n",
       "      <td>0</td>\n",
       "      <td>-1.0</td>\n",
       "      <td>0.357331</td>\n",
       "      <td>v_shifted_epoch_trial</td>\n",
       "      <td>v</td>\n",
       "    </tr>\n",
       "    <tr>\n",
       "      <th>1</th>\n",
       "      <td>1</td>\n",
       "      <td>-1.0</td>\n",
       "      <td>0.461415</td>\n",
       "      <td>v_shifted_epoch_trial</td>\n",
       "      <td>v</td>\n",
       "    </tr>\n",
       "    <tr>\n",
       "      <th>2</th>\n",
       "      <td>2</td>\n",
       "      <td>-1.0</td>\n",
       "      <td>0.259656</td>\n",
       "      <td>v_shifted_epoch_trial</td>\n",
       "      <td>v</td>\n",
       "    </tr>\n",
       "    <tr>\n",
       "      <th>3</th>\n",
       "      <td>3</td>\n",
       "      <td>-1.0</td>\n",
       "      <td>0.299286</td>\n",
       "      <td>v_shifted_epoch_trial</td>\n",
       "      <td>v</td>\n",
       "    </tr>\n",
       "    <tr>\n",
       "      <th>4</th>\n",
       "      <td>4</td>\n",
       "      <td>-1.0</td>\n",
       "      <td>0.197033</td>\n",
       "      <td>v_shifted_epoch_trial</td>\n",
       "      <td>v</td>\n",
       "    </tr>\n",
       "  </tbody>\n",
       "</table>\n",
       "</div>"
      ],
      "text/plain": [
       "   mcmc_iteration  shifted_epoch_trial         v                  model  \\\n",
       "0               0                 -1.0  0.357331  v_shifted_epoch_trial   \n",
       "1               1                 -1.0  0.461415  v_shifted_epoch_trial   \n",
       "2               2                 -1.0  0.259656  v_shifted_epoch_trial   \n",
       "3               3                 -1.0  0.299286  v_shifted_epoch_trial   \n",
       "4               4                 -1.0  0.197033  v_shifted_epoch_trial   \n",
       "\n",
       "  ddm_param  \n",
       "0         v  \n",
       "1         v  \n",
       "2         v  \n",
       "3         v  \n",
       "4         v  "
      ]
     },
     "execution_count": 41,
     "metadata": {},
     "output_type": "execute_result"
    }
   ],
   "source": [
    "v_df.head()"
   ]
  },
  {
   "cell_type": "code",
   "execution_count": 42,
   "metadata": {},
   "outputs": [
    {
     "data": {
      "text/html": [
       "<div>\n",
       "<style scoped>\n",
       "    .dataframe tbody tr th:only-of-type {\n",
       "        vertical-align: middle;\n",
       "    }\n",
       "\n",
       "    .dataframe tbody tr th {\n",
       "        vertical-align: top;\n",
       "    }\n",
       "\n",
       "    .dataframe thead th {\n",
       "        text-align: right;\n",
       "    }\n",
       "</style>\n",
       "<table border=\"1\" class=\"dataframe\">\n",
       "  <thead>\n",
       "    <tr style=\"text-align: right;\">\n",
       "      <th></th>\n",
       "      <th>mcmc_iteration</th>\n",
       "      <th>shifted_epoch_trial</th>\n",
       "      <th>a</th>\n",
       "      <th>model</th>\n",
       "      <th>ddm_param</th>\n",
       "    </tr>\n",
       "  </thead>\n",
       "  <tbody>\n",
       "    <tr>\n",
       "      <th>0</th>\n",
       "      <td>0</td>\n",
       "      <td>-1.0</td>\n",
       "      <td>0.983536</td>\n",
       "      <td>a_shifted_epoch_trial</td>\n",
       "      <td>a</td>\n",
       "    </tr>\n",
       "    <tr>\n",
       "      <th>1</th>\n",
       "      <td>1</td>\n",
       "      <td>-1.0</td>\n",
       "      <td>0.978072</td>\n",
       "      <td>a_shifted_epoch_trial</td>\n",
       "      <td>a</td>\n",
       "    </tr>\n",
       "    <tr>\n",
       "      <th>2</th>\n",
       "      <td>2</td>\n",
       "      <td>-1.0</td>\n",
       "      <td>0.972083</td>\n",
       "      <td>a_shifted_epoch_trial</td>\n",
       "      <td>a</td>\n",
       "    </tr>\n",
       "    <tr>\n",
       "      <th>3</th>\n",
       "      <td>3</td>\n",
       "      <td>-1.0</td>\n",
       "      <td>0.994221</td>\n",
       "      <td>a_shifted_epoch_trial</td>\n",
       "      <td>a</td>\n",
       "    </tr>\n",
       "    <tr>\n",
       "      <th>4</th>\n",
       "      <td>4</td>\n",
       "      <td>-1.0</td>\n",
       "      <td>0.972216</td>\n",
       "      <td>a_shifted_epoch_trial</td>\n",
       "      <td>a</td>\n",
       "    </tr>\n",
       "  </tbody>\n",
       "</table>\n",
       "</div>"
      ],
      "text/plain": [
       "   mcmc_iteration  shifted_epoch_trial         a                  model  \\\n",
       "0               0                 -1.0  0.983536  a_shifted_epoch_trial   \n",
       "1               1                 -1.0  0.978072  a_shifted_epoch_trial   \n",
       "2               2                 -1.0  0.972083  a_shifted_epoch_trial   \n",
       "3               3                 -1.0  0.994221  a_shifted_epoch_trial   \n",
       "4               4                 -1.0  0.972216  a_shifted_epoch_trial   \n",
       "\n",
       "  ddm_param  \n",
       "0         a  \n",
       "1         a  \n",
       "2         a  \n",
       "3         a  \n",
       "4         a  "
      ]
     },
     "execution_count": 42,
     "metadata": {},
     "output_type": "execute_result"
    }
   ],
   "source": [
    "a_df.head()"
   ]
  },
  {
   "cell_type": "code",
   "execution_count": 43,
   "metadata": {},
   "outputs": [],
   "source": [
    "a_df['a_est_z'] = zscore(a_df[['a']])\n",
    "v_df['v_est_z'] = zscore(v_df[['v']])"
   ]
  },
  {
   "cell_type": "code",
   "execution_count": 44,
   "metadata": {},
   "outputs": [
    {
     "name": "stdout",
     "output_type": "stream",
     "text": [
      "1666 1666\n"
     ]
    }
   ],
   "source": [
    "print(v_df.mcmc_iteration.max(), a_df.mcmc_iteration.max())"
   ]
  },
  {
   "cell_type": "code",
   "execution_count": 45,
   "metadata": {},
   "outputs": [
    {
     "name": "stdout",
     "output_type": "stream",
     "text": [
      "[-1.  0.  1.  2.  3.] [-1.  0.  1.  2.  3.]\n"
     ]
    }
   ],
   "source": [
    "print(v_df.shifted_epoch_trial.unique(), a_df.shifted_epoch_trial.unique())"
   ]
  },
  {
   "cell_type": "code",
   "execution_count": 46,
   "metadata": {},
   "outputs": [
    {
     "name": "stdout",
     "output_type": "stream",
     "text": [
      "8335 8335\n"
     ]
    }
   ],
   "source": [
    "print(len(v_df), len(a_df))"
   ]
  },
  {
   "cell_type": "code",
   "execution_count": 47,
   "metadata": {},
   "outputs": [],
   "source": [
    "full_df = v_df.copy().drop(columns=['model', 'ddm_param'])\n",
    "full_df[['a', 'a_est_z']] = a_df[['a', 'a_est_z']]"
   ]
  },
  {
   "cell_type": "code",
   "execution_count": 48,
   "metadata": {},
   "outputs": [
    {
     "data": {
      "text/html": [
       "<div>\n",
       "<style scoped>\n",
       "    .dataframe tbody tr th:only-of-type {\n",
       "        vertical-align: middle;\n",
       "    }\n",
       "\n",
       "    .dataframe tbody tr th {\n",
       "        vertical-align: top;\n",
       "    }\n",
       "\n",
       "    .dataframe thead th {\n",
       "        text-align: right;\n",
       "    }\n",
       "</style>\n",
       "<table border=\"1\" class=\"dataframe\">\n",
       "  <thead>\n",
       "    <tr style=\"text-align: right;\">\n",
       "      <th></th>\n",
       "      <th>mcmc_iteration</th>\n",
       "      <th>shifted_epoch_trial</th>\n",
       "      <th>v</th>\n",
       "      <th>v_est_z</th>\n",
       "      <th>a</th>\n",
       "      <th>a_est_z</th>\n",
       "    </tr>\n",
       "  </thead>\n",
       "  <tbody>\n",
       "    <tr>\n",
       "      <th>0</th>\n",
       "      <td>0</td>\n",
       "      <td>-1.0</td>\n",
       "      <td>0.357331</td>\n",
       "      <td>0.767298</td>\n",
       "      <td>0.983536</td>\n",
       "      <td>0.438212</td>\n",
       "    </tr>\n",
       "    <tr>\n",
       "      <th>1</th>\n",
       "      <td>1</td>\n",
       "      <td>-1.0</td>\n",
       "      <td>0.461415</td>\n",
       "      <td>1.101603</td>\n",
       "      <td>0.978072</td>\n",
       "      <td>0.112915</td>\n",
       "    </tr>\n",
       "    <tr>\n",
       "      <th>2</th>\n",
       "      <td>2</td>\n",
       "      <td>-1.0</td>\n",
       "      <td>0.259656</td>\n",
       "      <td>0.453579</td>\n",
       "      <td>0.972083</td>\n",
       "      <td>-0.243700</td>\n",
       "    </tr>\n",
       "    <tr>\n",
       "      <th>3</th>\n",
       "      <td>3</td>\n",
       "      <td>-1.0</td>\n",
       "      <td>0.299286</td>\n",
       "      <td>0.580862</td>\n",
       "      <td>0.994221</td>\n",
       "      <td>1.074437</td>\n",
       "    </tr>\n",
       "    <tr>\n",
       "      <th>4</th>\n",
       "      <td>4</td>\n",
       "      <td>-1.0</td>\n",
       "      <td>0.197033</td>\n",
       "      <td>0.252441</td>\n",
       "      <td>0.972216</td>\n",
       "      <td>-0.235758</td>\n",
       "    </tr>\n",
       "  </tbody>\n",
       "</table>\n",
       "</div>"
      ],
      "text/plain": [
       "   mcmc_iteration  shifted_epoch_trial         v   v_est_z         a   a_est_z\n",
       "0               0                 -1.0  0.357331  0.767298  0.983536  0.438212\n",
       "1               1                 -1.0  0.461415  1.101603  0.978072  0.112915\n",
       "2               2                 -1.0  0.259656  0.453579  0.972083 -0.243700\n",
       "3               3                 -1.0  0.299286  0.580862  0.994221  1.074437\n",
       "4               4                 -1.0  0.197033  0.252441  0.972216 -0.235758"
      ]
     },
     "execution_count": 48,
     "metadata": {},
     "output_type": "execute_result"
    }
   ],
   "source": [
    "full_df.head()"
   ]
  },
  {
   "cell_type": "code",
   "execution_count": 49,
   "metadata": {},
   "outputs": [],
   "source": [
    "assert 'a_est_z' in full_df, 'z-scored a is missing. check df.'\n",
    "assert 'v_est_z' in full_df, 'z-scored v is missing. check df.'"
   ]
  },
  {
   "cell_type": "code",
   "execution_count": 50,
   "metadata": {},
   "outputs": [],
   "source": [
    "def cart2polar(x,y): # note that this should be implemented for each epoch after nesting within condition and sub\n",
    "\n",
    "    x_diff, y_diff = x.diff(), y.diff()\n",
    "    r = np.hypot(x_diff, y_diff)\n",
    "    theta_radians = np.arctan2(y_diff, x_diff)\n",
    "    theta_deg = np.rad2deg(theta_radians)\n",
    "    return r, theta_radians, theta_deg"
   ]
  },
  {
   "cell_type": "code",
   "execution_count": 51,
   "metadata": {},
   "outputs": [
    {
     "data": {
      "text/html": [
       "<div>\n",
       "<style scoped>\n",
       "    .dataframe tbody tr th:only-of-type {\n",
       "        vertical-align: middle;\n",
       "    }\n",
       "\n",
       "    .dataframe tbody tr th {\n",
       "        vertical-align: top;\n",
       "    }\n",
       "\n",
       "    .dataframe thead th {\n",
       "        text-align: right;\n",
       "    }\n",
       "</style>\n",
       "<table border=\"1\" class=\"dataframe\">\n",
       "  <thead>\n",
       "    <tr style=\"text-align: right;\">\n",
       "      <th></th>\n",
       "      <th>mcmc_iteration</th>\n",
       "      <th>shifted_epoch_trial</th>\n",
       "      <th>v</th>\n",
       "      <th>v_est_z</th>\n",
       "      <th>a</th>\n",
       "      <th>a_est_z</th>\n",
       "    </tr>\n",
       "  </thead>\n",
       "  <tbody>\n",
       "    <tr>\n",
       "      <th>0</th>\n",
       "      <td>0</td>\n",
       "      <td>-1.0</td>\n",
       "      <td>0.357331</td>\n",
       "      <td>0.767298</td>\n",
       "      <td>0.983536</td>\n",
       "      <td>0.438212</td>\n",
       "    </tr>\n",
       "    <tr>\n",
       "      <th>1</th>\n",
       "      <td>1</td>\n",
       "      <td>-1.0</td>\n",
       "      <td>0.461415</td>\n",
       "      <td>1.101603</td>\n",
       "      <td>0.978072</td>\n",
       "      <td>0.112915</td>\n",
       "    </tr>\n",
       "    <tr>\n",
       "      <th>2</th>\n",
       "      <td>2</td>\n",
       "      <td>-1.0</td>\n",
       "      <td>0.259656</td>\n",
       "      <td>0.453579</td>\n",
       "      <td>0.972083</td>\n",
       "      <td>-0.243700</td>\n",
       "    </tr>\n",
       "    <tr>\n",
       "      <th>3</th>\n",
       "      <td>3</td>\n",
       "      <td>-1.0</td>\n",
       "      <td>0.299286</td>\n",
       "      <td>0.580862</td>\n",
       "      <td>0.994221</td>\n",
       "      <td>1.074437</td>\n",
       "    </tr>\n",
       "    <tr>\n",
       "      <th>4</th>\n",
       "      <td>4</td>\n",
       "      <td>-1.0</td>\n",
       "      <td>0.197033</td>\n",
       "      <td>0.252441</td>\n",
       "      <td>0.972216</td>\n",
       "      <td>-0.235758</td>\n",
       "    </tr>\n",
       "  </tbody>\n",
       "</table>\n",
       "</div>"
      ],
      "text/plain": [
       "   mcmc_iteration  shifted_epoch_trial         v   v_est_z         a   a_est_z\n",
       "0               0                 -1.0  0.357331  0.767298  0.983536  0.438212\n",
       "1               1                 -1.0  0.461415  1.101603  0.978072  0.112915\n",
       "2               2                 -1.0  0.259656  0.453579  0.972083 -0.243700\n",
       "3               3                 -1.0  0.299286  0.580862  0.994221  1.074437\n",
       "4               4                 -1.0  0.197033  0.252441  0.972216 -0.235758"
      ]
     },
     "execution_count": 51,
     "metadata": {},
     "output_type": "execute_result"
    }
   ],
   "source": [
    "full_df.head()"
   ]
  },
  {
   "cell_type": "code",
   "execution_count": 53,
   "metadata": {},
   "outputs": [],
   "source": [
    "dats = []\n",
    "\n",
    "for it in full_df.mcmc_iteration.unique(): \n",
    "    \n",
    "    dat = full_df.loc[full_df.mcmc_iteration == it].copy()\n",
    "    \n",
    "    r, theta_radians, theta_deg = cart2polar(dat.a_est_z, dat.v_est_z) \n",
    "    \n",
    "\n",
    "    dat['r_z'] = r\n",
    "    dat['theta_radians_z'] = theta_radians\n",
    "    dat['theta_deg_z'] = theta_deg\n",
    "    \n",
    "#     print(dat.r_z, dat.theta_deg_z)\n",
    "\n",
    "    dat.reset_index(drop=True, inplace=True)\n",
    "    dats.append(dat)"
   ]
  },
  {
   "cell_type": "code",
   "execution_count": 54,
   "metadata": {},
   "outputs": [],
   "source": [
    "av_polar_est_df = pd.concat(dats)"
   ]
  },
  {
   "cell_type": "code",
   "execution_count": 36,
   "metadata": {},
   "outputs": [
    {
     "data": {
      "text/html": [
       "<div>\n",
       "<style scoped>\n",
       "    .dataframe tbody tr th:only-of-type {\n",
       "        vertical-align: middle;\n",
       "    }\n",
       "\n",
       "    .dataframe tbody tr th {\n",
       "        vertical-align: top;\n",
       "    }\n",
       "\n",
       "    .dataframe thead th {\n",
       "        text-align: right;\n",
       "    }\n",
       "</style>\n",
       "<table border=\"1\" class=\"dataframe\">\n",
       "  <thead>\n",
       "    <tr style=\"text-align: right;\">\n",
       "      <th></th>\n",
       "      <th>mcmc_iteration</th>\n",
       "      <th>shifted_epoch_trial</th>\n",
       "      <th>v</th>\n",
       "      <th>v_est_z</th>\n",
       "      <th>a</th>\n",
       "      <th>a_est_z</th>\n",
       "      <th>r_z</th>\n",
       "      <th>theta_radians_z</th>\n",
       "      <th>theta_deg_z</th>\n",
       "    </tr>\n",
       "  </thead>\n",
       "  <tbody>\n",
       "    <tr>\n",
       "      <th>0</th>\n",
       "      <td>0</td>\n",
       "      <td>-1</td>\n",
       "      <td>1.165847</td>\n",
       "      <td>1.523414</td>\n",
       "      <td>0.799337</td>\n",
       "      <td>-0.439473</td>\n",
       "      <td>NaN</td>\n",
       "      <td>NaN</td>\n",
       "      <td>NaN</td>\n",
       "    </tr>\n",
       "    <tr>\n",
       "      <th>1</th>\n",
       "      <td>0</td>\n",
       "      <td>0</td>\n",
       "      <td>-0.826085</td>\n",
       "      <td>-1.238133</td>\n",
       "      <td>0.830902</td>\n",
       "      <td>1.568585</td>\n",
       "      <td>1.992182</td>\n",
       "      <td>-1.554951</td>\n",
       "      <td>-89.092146</td>\n",
       "    </tr>\n",
       "    <tr>\n",
       "      <th>2</th>\n",
       "      <td>0</td>\n",
       "      <td>1</td>\n",
       "      <td>-0.533549</td>\n",
       "      <td>-0.832571</td>\n",
       "      <td>0.805968</td>\n",
       "      <td>-0.017621</td>\n",
       "      <td>0.293597</td>\n",
       "      <td>1.655824</td>\n",
       "      <td>94.871723</td>\n",
       "    </tr>\n",
       "    <tr>\n",
       "      <th>3</th>\n",
       "      <td>0</td>\n",
       "      <td>2</td>\n",
       "      <td>0.149891</td>\n",
       "      <td>0.114927</td>\n",
       "      <td>0.791887</td>\n",
       "      <td>-0.913459</td>\n",
       "      <td>0.683585</td>\n",
       "      <td>1.591398</td>\n",
       "      <td>91.180371</td>\n",
       "    </tr>\n",
       "    <tr>\n",
       "      <th>4</th>\n",
       "      <td>0</td>\n",
       "      <td>3</td>\n",
       "      <td>0.603051</td>\n",
       "      <td>0.743173</td>\n",
       "      <td>0.801742</td>\n",
       "      <td>-0.286517</td>\n",
       "      <td>0.453268</td>\n",
       "      <td>1.549053</td>\n",
       "      <td>88.754173</td>\n",
       "    </tr>\n",
       "  </tbody>\n",
       "</table>\n",
       "</div>"
      ],
      "text/plain": [
       "   mcmc_iteration  shifted_epoch_trial         v   v_est_z         a  \\\n",
       "0               0                   -1  1.165847  1.523414  0.799337   \n",
       "1               0                    0 -0.826085 -1.238133  0.830902   \n",
       "2               0                    1 -0.533549 -0.832571  0.805968   \n",
       "3               0                    2  0.149891  0.114927  0.791887   \n",
       "4               0                    3  0.603051  0.743173  0.801742   \n",
       "\n",
       "    a_est_z       r_z  theta_radians_z  theta_deg_z  \n",
       "0 -0.439473       NaN              NaN          NaN  \n",
       "1  1.568585  1.992182        -1.554951   -89.092146  \n",
       "2 -0.017621  0.293597         1.655824    94.871723  \n",
       "3 -0.913459  0.683585         1.591398    91.180371  \n",
       "4 -0.286517  0.453268         1.549053    88.754173  "
      ]
     },
     "execution_count": 36,
     "metadata": {},
     "output_type": "execute_result"
    }
   ],
   "source": [
    "av_polar_est_df.head()"
   ]
  },
  {
   "cell_type": "code",
   "execution_count": 55,
   "metadata": {},
   "outputs": [],
   "source": [
    "av_polar_est_df.to_csv(os.path.join(write_dir, 'av_polar_est_df.csv'), index=False)"
   ]
  },
  {
   "cell_type": "code",
   "execution_count": 56,
   "metadata": {},
   "outputs": [
    {
     "data": {
      "image/png": "[encoded data removed]",
      "text/plain": [
       "<Figure size 1080x216 with 5 Axes>"
      ]
     },
     "metadata": {
      "needs_background": "light"
     },
     "output_type": "display_data"
    },
    {
     "data": {
      "image/png": "[encoded data removed]",
      "text/plain": [
       "<Figure size 1080x216 with 5 Axes>"
      ]
     },
     "metadata": {
      "needs_background": "light"
     },
     "output_type": "display_data"
    },
    {
     "data": {
      "image/png": "[encoded data removed]",
      "text/plain": [
       "<Figure size 1080x216 with 5 Axes>"
      ]
     },
     "metadata": {
      "needs_background": "light"
     },
     "output_type": "display_data"
    }
   ],
   "source": [
    "\n",
    "sns.set_context(\"notebook\", font_scale=1)\n",
    "\n",
    "g = sns.FacetGrid(data=av_polar_est_df, col='shifted_epoch_trial')\n",
    "g = g.map(plt.hist, 'theta_radians_z')\n",
    "plt.savefig(os.path.join(write_dir, 'theta_radians_z.png'))\n",
    "\n",
    "g = sns.FacetGrid(data=av_polar_est_df, col='shifted_epoch_trial')\n",
    "g = g.map(plt.hist, 'r_z')\n",
    "plt.savefig(os.path.join(write_dir,'r_z.png'))\n",
    "\n",
    "g = sns.FacetGrid(data=av_polar_est_df, col='shifted_epoch_trial')\n",
    "g = g.map(plt.hist, 'theta_deg_z')\n",
    "plt.savefig(os.path.join(write_dir, 'theta_deg_z.png'))"
   ]
  },
  {
   "cell_type": "code",
   "execution_count": null,
   "metadata": {},
   "outputs": [],
   "source": []
  }
 ],
 "metadata": {
  "kernelspec": {
   "display_name": "Python 3",
   "language": "python",
   "name": "python3"
  },
  "language_info": {
   "codemirror_mode": {
    "name": "ipython",
    "version": 3
   },
   "file_extension": ".py",
   "mimetype": "text/x-python",
   "name": "python",
   "nbconvert_exporter": "python",
   "pygments_lexer": "ipython3",
   "version": "3.8.5"
  }
 },
 "nbformat": 4,
 "nbformat_minor": 4
}
