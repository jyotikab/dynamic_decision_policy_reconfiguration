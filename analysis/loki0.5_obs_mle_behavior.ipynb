{
 "cells": [
  {
   "cell_type": "code",
   "execution_count": 1,
   "metadata": {},
   "outputs": [],
   "source": [
    "# install.packages(c('tidyverse', 'wesanderson', 'ggridges', 'ggthemes', 'reshape', 'lme4', 'Hmisc', 'afex'))"
   ]
  },
  {
   "cell_type": "code",
   "execution_count": 2,
   "metadata": {},
   "outputs": [
    {
     "name": "stderr",
     "output_type": "stream",
     "text": [
      "Registered S3 methods overwritten by 'ggplot2':\n",
      "  method         from \n",
      "  [.quosures     rlang\n",
      "  c.quosures     rlang\n",
      "  print.quosures rlang\n",
      "Registered S3 method overwritten by 'rvest':\n",
      "  method            from\n",
      "  read_xml.response xml2\n",
      "── \u001b[1mAttaching packages\u001b[22m ─────────────────────────────────────── tidyverse 1.2.1 ──\n",
      "\u001b[32m✔\u001b[39m \u001b[34mggplot2\u001b[39m 3.1.1       \u001b[32m✔\u001b[39m \u001b[34mpurrr  \u001b[39m 0.3.2  \n",
      "\u001b[32m✔\u001b[39m \u001b[34mtibble \u001b[39m 2.1.1       \u001b[32m✔\u001b[39m \u001b[34mdplyr  \u001b[39m 0.8.0.\u001b[31m1\u001b[39m\n",
      "\u001b[32m✔\u001b[39m \u001b[34mtidyr  \u001b[39m 0.8.3       \u001b[32m✔\u001b[39m \u001b[34mstringr\u001b[39m 1.4.0  \n",
      "\u001b[32m✔\u001b[39m \u001b[34mreadr  \u001b[39m 1.3.1       \u001b[32m✔\u001b[39m \u001b[34mforcats\u001b[39m 0.4.0  \n",
      "── \u001b[1mConflicts\u001b[22m ────────────────────────────────────────── tidyverse_conflicts() ──\n",
      "\u001b[31m✖\u001b[39m \u001b[34mdplyr\u001b[39m::\u001b[32mfilter()\u001b[39m masks \u001b[34mstats\u001b[39m::filter()\n",
      "\u001b[31m✖\u001b[39m \u001b[34mdplyr\u001b[39m::\u001b[32mlag()\u001b[39m    masks \u001b[34mstats\u001b[39m::lag()\n",
      "\n",
      "Attaching package: ‘ggridges’\n",
      "\n",
      "The following object is masked from ‘package:ggplot2’:\n",
      "\n",
      "    scale_discrete_manual\n",
      "\n",
      "\n",
      "Attaching package: ‘reshape’\n",
      "\n",
      "The following object is masked from ‘package:dplyr’:\n",
      "\n",
      "    rename\n",
      "\n",
      "The following objects are masked from ‘package:tidyr’:\n",
      "\n",
      "    expand, smiths\n",
      "\n",
      "Loading required package: Matrix\n",
      "\n",
      "Attaching package: ‘Matrix’\n",
      "\n",
      "The following object is masked from ‘package:reshape’:\n",
      "\n",
      "    expand\n",
      "\n",
      "The following object is masked from ‘package:tidyr’:\n",
      "\n",
      "    expand\n",
      "\n",
      "Loading required package: lattice\n",
      "Loading required package: survival\n",
      "Loading required package: Formula\n",
      "\n",
      "Attaching package: ‘Hmisc’\n",
      "\n",
      "The following objects are masked from ‘package:dplyr’:\n",
      "\n",
      "    src, summarize\n",
      "\n",
      "The following objects are masked from ‘package:base’:\n",
      "\n",
      "    format.pval, units\n",
      "\n",
      "Registered S3 methods overwritten by 'car':\n",
      "  method                          from\n",
      "  influence.merMod                lme4\n",
      "  cooks.distance.influence.merMod lme4\n",
      "  dfbeta.influence.merMod         lme4\n",
      "  dfbetas.influence.merMod        lme4\n",
      "************\n",
      "Welcome to afex. For support visit: http://afex.singmann.science/\n",
      "- Functions for ANOVAs: aov_car(), aov_ez(), and aov_4()\n",
      "- Methods for calculating p-values with mixed(): 'KR', 'S', 'LRT', and 'PB'\n",
      "- 'afex_aov' and 'mixed' objects can be passed to emmeans() for follow-up tests\n",
      "- NEWS: library('emmeans') now needs to be called explicitly!\n",
      "- Get and set global package options with: afex_options()\n",
      "- Set orthogonal sum-to-zero contrasts globally: set_sum_contrasts()\n",
      "- For example analyses see: browseVignettes(\"afex\")\n",
      "************\n",
      "\n",
      "Attaching package: ‘afex’\n",
      "\n",
      "The following object is masked from ‘package:lme4’:\n",
      "\n",
      "    lmer\n",
      "\n"
     ]
    }
   ],
   "source": [
    "library(tidyverse)\n",
    "library(wesanderson)\n",
    "library(ggridges)\n",
    "library(ggthemes)\n",
    "library(reshape)\n",
    "library(lme4)\n",
    "library(Hmisc)\n",
    "library(afex)\n",
    "\n",
    "source(\"~/Dropbox/loki_0.5/analysis/functions/get_os.R\")\n",
    "source(\"~/Dropbox/loki_0.5/analysis/functions/median_cl_boot.R\")"
   ]
  },
  {
   "cell_type": "code",
   "execution_count": 89,
   "metadata": {},
   "outputs": [],
   "source": [
    "os <- get_os()\n",
    "if (os == 'linux'){home <- '/home/krista/'\n",
    "} else if(os == 'osx'){home <- '/Users/krista/'}\n",
    "\n",
    "agg_data_path=paste0(home,'Dropbox/loki_0.5/analysis/aggregated_data/')\n",
    "sim_data_path=paste0(home,'Dropbox/loki_0.5/data/simulated_data/')"
   ]
  },
  {
   "cell_type": "code",
   "execution_count": 90,
   "metadata": {},
   "outputs": [
    {
     "data": {
      "text/html": [
       "4"
      ],
      "text/latex": [
       "4"
      ],
      "text/markdown": [
       "4"
      ],
      "text/plain": [
       "[1] 4"
      ]
     },
     "metadata": {},
     "output_type": "display_data"
    },
    {
     "data": {
      "text/html": [
       "9"
      ],
      "text/latex": [
       "9"
      ],
      "text/markdown": [
       "9"
      ],
      "text/plain": [
       "[1] 9"
      ]
     },
     "metadata": {},
     "output_type": "display_data"
    },
    {
     "data": {
      "text/html": [
       "'number of rows is expected: TRUE'"
      ],
      "text/latex": [
       "'number of rows is expected: TRUE'"
      ],
      "text/markdown": [
       "'number of rows is expected: TRUE'"
      ],
      "text/plain": [
       "[1] \"number of rows is expected: TRUE\""
      ]
     },
     "metadata": {},
     "output_type": "display_data"
    }
   ],
   "source": [
    "reward_df <- read_csv(paste0(agg_data_path,\"raw_reward_df.csv\"), col_types=cols())\n",
    "ls_df <- read_csv(paste0(sim_data_path,\"learning_signals.csv\"), col_types=cols())\n",
    "\n",
    "(n_subjects = length(unique(reward_df$subj_id)))\n",
    "(n_conditions = length(unique(reward_df$reward_code)))\n",
    "n_trials_per_s = 400\n",
    "reward_df$reward_code <- factor(reward_df$reward_code) #cast as factor\n",
    "\n",
    "expected_rows = n_subjects * n_conditions * n_trials_per_s\n",
    "\n",
    "paste0('number of rows is expected: ', nrow(reward_df) == expected_rows)"
   ]
  },
  {
   "cell_type": "code",
   "execution_count": 91,
   "metadata": {},
   "outputs": [],
   "source": [
    "ls_df_sorted <- ls_df[order(ls_df$subj_id, ls_df$reward_code),] \n",
    "reward_df_sorted <- reward_df[order(reward_df$subj_id, reward_df$reward_code),] "
   ]
  },
  {
   "cell_type": "code",
   "execution_count": 92,
   "metadata": {},
   "outputs": [
    {
     "data": {
      "text/html": [
       "<table>\n",
       "<caption>A tibble: 6 × 16</caption>\n",
       "<thead>\n",
       "\t<tr><th scope=col>trial</th><th scope=col>epoch_trial</th><th scope=col>p_optimal</th><th scope=col>cpp</th><th scope=col>b_t0</th><th scope=col>b_t1</th><th scope=col>MC</th><th scope=col>H</th><th scope=col>signed_B_diff</th><th scope=col>reward_code</th><th scope=col>subj_id</th><th scope=col>accuracy</th><th scope=col>target_choice</th><th scope=col>correct_target_choice</th><th scope=col>lambda_val</th><th scope=col>ideal_B</th></tr>\n",
       "\t<tr><th scope=col>&lt;dbl&gt;</th><th scope=col>&lt;dbl&gt;</th><th scope=col>&lt;dbl&gt;</th><th scope=col>&lt;dbl&gt;</th><th scope=col>&lt;dbl&gt;</th><th scope=col>&lt;dbl&gt;</th><th scope=col>&lt;dbl&gt;</th><th scope=col>&lt;dbl&gt;</th><th scope=col>&lt;dbl&gt;</th><th scope=col>&lt;dbl&gt;</th><th scope=col>&lt;dbl&gt;</th><th scope=col>&lt;lgl&gt;</th><th scope=col>&lt;dbl&gt;</th><th scope=col>&lt;dbl&gt;</th><th scope=col>&lt;dbl&gt;</th><th scope=col>&lt;dbl&gt;</th></tr>\n",
       "</thead>\n",
       "<tbody>\n",
       "\t<tr><td>0</td><td>0</td><td>0.65</td><td>0.05936247</td><td>0.0000000</td><td>0.0000000</td><td>0.5000000</td><td>0.0975</td><td> 0.00000000</td><td>0</td><td>786</td><td> TRUE</td><td>0</td><td>0</td><td>10</td><td> 0.00000000</td></tr>\n",
       "\t<tr><td>1</td><td>1</td><td>0.65</td><td>0.05230506</td><td>0.0000000</td><td>0.0890437</td><td>0.6537310</td><td>0.0975</td><td> 0.00000000</td><td>0</td><td>786</td><td> TRUE</td><td>0</td><td>0</td><td>10</td><td>-0.08904370</td></tr>\n",
       "\t<tr><td>2</td><td>2</td><td>0.65</td><td>0.22832904</td><td>0.0000000</td><td>0.1628438</td><td>0.7243949</td><td>0.0975</td><td> 0.08904370</td><td>0</td><td>786</td><td> TRUE</td><td>0</td><td>0</td><td>10</td><td>-0.16284385</td></tr>\n",
       "\t<tr><td>3</td><td>3</td><td>0.65</td><td>0.07267309</td><td>0.9639528</td><td>0.4681554</td><td>0.5311390</td><td>0.0975</td><td> 0.16284385</td><td>0</td><td>786</td><td> TRUE</td><td>0</td><td>0</td><td>10</td><td> 0.49579737</td></tr>\n",
       "\t<tr><td>4</td><td>4</td><td>0.65</td><td>0.87891172</td><td>0.4747848</td><td>0.5431428</td><td>0.6556834</td><td>0.0975</td><td>-0.49579737</td><td>0</td><td>786</td><td> TRUE</td><td>0</td><td>0</td><td>10</td><td>-0.06835797</td></tr>\n",
       "\t<tr><td>5</td><td>5</td><td>0.65</td><td>0.09421732</td><td>4.0268209</td><td>1.3841358</td><td>0.3843557</td><td>0.0975</td><td> 0.06835797</td><td>0</td><td>786</td><td>FALSE</td><td>1</td><td>0</td><td>10</td><td> 2.64268507</td></tr>\n",
       "</tbody>\n",
       "</table>\n"
      ],
      "text/latex": [
       "A tibble: 6 × 16\n",
       "\\begin{tabular}{r|llllllllllllllll}\n",
       " trial & epoch\\_trial & p\\_optimal & cpp & b\\_t0 & b\\_t1 & MC & H & signed\\_B\\_diff & reward\\_code & subj\\_id & accuracy & target\\_choice & correct\\_target\\_choice & lambda\\_val & ideal\\_B\\\\\n",
       " <dbl> & <dbl> & <dbl> & <dbl> & <dbl> & <dbl> & <dbl> & <dbl> & <dbl> & <dbl> & <dbl> & <lgl> & <dbl> & <dbl> & <dbl> & <dbl>\\\\\n",
       "\\hline\n",
       "\t 0 & 0 & 0.65 & 0.05936247 & 0.0000000 & 0.0000000 & 0.5000000 & 0.0975 &  0.00000000 & 0 & 786 &  TRUE & 0 & 0 & 10 &  0.00000000\\\\\n",
       "\t 1 & 1 & 0.65 & 0.05230506 & 0.0000000 & 0.0890437 & 0.6537310 & 0.0975 &  0.00000000 & 0 & 786 &  TRUE & 0 & 0 & 10 & -0.08904370\\\\\n",
       "\t 2 & 2 & 0.65 & 0.22832904 & 0.0000000 & 0.1628438 & 0.7243949 & 0.0975 &  0.08904370 & 0 & 786 &  TRUE & 0 & 0 & 10 & -0.16284385\\\\\n",
       "\t 3 & 3 & 0.65 & 0.07267309 & 0.9639528 & 0.4681554 & 0.5311390 & 0.0975 &  0.16284385 & 0 & 786 &  TRUE & 0 & 0 & 10 &  0.49579737\\\\\n",
       "\t 4 & 4 & 0.65 & 0.87891172 & 0.4747848 & 0.5431428 & 0.6556834 & 0.0975 & -0.49579737 & 0 & 786 &  TRUE & 0 & 0 & 10 & -0.06835797\\\\\n",
       "\t 5 & 5 & 0.65 & 0.09421732 & 4.0268209 & 1.3841358 & 0.3843557 & 0.0975 &  0.06835797 & 0 & 786 & FALSE & 1 & 0 & 10 &  2.64268507\\\\\n",
       "\\end{tabular}\n"
      ],
      "text/markdown": [
       "\n",
       "A tibble: 6 × 16\n",
       "\n",
       "| trial &lt;dbl&gt; | epoch_trial &lt;dbl&gt; | p_optimal &lt;dbl&gt; | cpp &lt;dbl&gt; | b_t0 &lt;dbl&gt; | b_t1 &lt;dbl&gt; | MC &lt;dbl&gt; | H &lt;dbl&gt; | signed_B_diff &lt;dbl&gt; | reward_code &lt;dbl&gt; | subj_id &lt;dbl&gt; | accuracy &lt;lgl&gt; | target_choice &lt;dbl&gt; | correct_target_choice &lt;dbl&gt; | lambda_val &lt;dbl&gt; | ideal_B &lt;dbl&gt; |\n",
       "|---|---|---|---|---|---|---|---|---|---|---|---|---|---|---|---|\n",
       "| 0 | 0 | 0.65 | 0.05936247 | 0.0000000 | 0.0000000 | 0.5000000 | 0.0975 |  0.00000000 | 0 | 786 |  TRUE | 0 | 0 | 10 |  0.00000000 |\n",
       "| 1 | 1 | 0.65 | 0.05230506 | 0.0000000 | 0.0890437 | 0.6537310 | 0.0975 |  0.00000000 | 0 | 786 |  TRUE | 0 | 0 | 10 | -0.08904370 |\n",
       "| 2 | 2 | 0.65 | 0.22832904 | 0.0000000 | 0.1628438 | 0.7243949 | 0.0975 |  0.08904370 | 0 | 786 |  TRUE | 0 | 0 | 10 | -0.16284385 |\n",
       "| 3 | 3 | 0.65 | 0.07267309 | 0.9639528 | 0.4681554 | 0.5311390 | 0.0975 |  0.16284385 | 0 | 786 |  TRUE | 0 | 0 | 10 |  0.49579737 |\n",
       "| 4 | 4 | 0.65 | 0.87891172 | 0.4747848 | 0.5431428 | 0.6556834 | 0.0975 | -0.49579737 | 0 | 786 |  TRUE | 0 | 0 | 10 | -0.06835797 |\n",
       "| 5 | 5 | 0.65 | 0.09421732 | 4.0268209 | 1.3841358 | 0.3843557 | 0.0975 |  0.06835797 | 0 | 786 | FALSE | 1 | 0 | 10 |  2.64268507 |\n",
       "\n"
      ],
      "text/plain": [
       "  trial epoch_trial p_optimal cpp        b_t0      b_t1      MC        H     \n",
       "1 0     0           0.65      0.05936247 0.0000000 0.0000000 0.5000000 0.0975\n",
       "2 1     1           0.65      0.05230506 0.0000000 0.0890437 0.6537310 0.0975\n",
       "3 2     2           0.65      0.22832904 0.0000000 0.1628438 0.7243949 0.0975\n",
       "4 3     3           0.65      0.07267309 0.9639528 0.4681554 0.5311390 0.0975\n",
       "5 4     4           0.65      0.87891172 0.4747848 0.5431428 0.6556834 0.0975\n",
       "6 5     5           0.65      0.09421732 4.0268209 1.3841358 0.3843557 0.0975\n",
       "  signed_B_diff reward_code subj_id accuracy target_choice\n",
       "1  0.00000000   0           786      TRUE    0            \n",
       "2  0.00000000   0           786      TRUE    0            \n",
       "3  0.08904370   0           786      TRUE    0            \n",
       "4  0.16284385   0           786      TRUE    0            \n",
       "5 -0.49579737   0           786      TRUE    0            \n",
       "6  0.06835797   0           786     FALSE    1            \n",
       "  correct_target_choice lambda_val ideal_B    \n",
       "1 0                     10          0.00000000\n",
       "2 0                     10         -0.08904370\n",
       "3 0                     10         -0.16284385\n",
       "4 0                     10          0.49579737\n",
       "5 0                     10         -0.06835797\n",
       "6 0                     10          2.64268507"
      ]
     },
     "metadata": {},
     "output_type": "display_data"
    }
   ],
   "source": [
    "head(ls_df)"
   ]
  },
  {
   "cell_type": "code",
   "execution_count": 93,
   "metadata": {},
   "outputs": [],
   "source": [
    "reward_df_sorted['ideal_B'] = ls_df_sorted$ideal_B\n",
    "reward_df_sorted['signed_B_diff'] = ls_df_sorted$ideal_B\n",
    "reward_df_sorted['cpp'] = ls_df_sorted$cpp\n",
    "reward_df_sorted['MC'] = ls_df_sorted$MC\n",
    "reward_df_sorted['H'] = ls_df_sorted$H\n",
    "reward_df_sorted['lambda_val'] = factor(ls_df_sorted$lambda_val)\n",
    "reward_df_sorted['p_optimal'] = factor(ls_df_sorted$p_optimal)\n",
    "# reward_df_sorted['subj_id'] = factor(reward_df_sorted$subj_id)"
   ]
  },
  {
   "cell_type": "code",
   "execution_count": 102,
   "metadata": {},
   "outputs": [],
   "source": [
    "reward_df_sorted['cpp_shifted'] = reward_df_sorted %>% group_by(subj_id) %>% \n",
    "mutate(cpp_shifted=lag(cpp,1)) %>% pull(cpp_shifted)\n",
    "\n",
    "reward_df_sorted['ideal_B_shifted'] = reward_df_sorted %>% group_by(subj_id) %>% \n",
    "mutate(ideal_B_shifted=lag(ideal_B,1)) %>% pull(ideal_B_shifted)"
   ]
  },
  {
   "cell_type": "code",
   "execution_count": 103,
   "metadata": {},
   "outputs": [
    {
     "data": {
      "text/html": [
       "<table>\n",
       "<caption>A tibble: 4 × 2</caption>\n",
       "<thead>\n",
       "\t<tr><th scope=col>subj_id</th><th scope=col>n_nans</th></tr>\n",
       "\t<tr><th scope=col>&lt;dbl&gt;</th><th scope=col>&lt;int&gt;</th></tr>\n",
       "</thead>\n",
       "<tbody>\n",
       "\t<tr><td>786</td><td>1</td></tr>\n",
       "\t<tr><td>787</td><td>1</td></tr>\n",
       "\t<tr><td>788</td><td>1</td></tr>\n",
       "\t<tr><td>789</td><td>1</td></tr>\n",
       "</tbody>\n",
       "</table>\n"
      ],
      "text/latex": [
       "A tibble: 4 × 2\n",
       "\\begin{tabular}{r|ll}\n",
       " subj\\_id & n\\_nans\\\\\n",
       " <dbl> & <int>\\\\\n",
       "\\hline\n",
       "\t 786 & 1\\\\\n",
       "\t 787 & 1\\\\\n",
       "\t 788 & 1\\\\\n",
       "\t 789 & 1\\\\\n",
       "\\end{tabular}\n"
      ],
      "text/markdown": [
       "\n",
       "A tibble: 4 × 2\n",
       "\n",
       "| subj_id &lt;dbl&gt; | n_nans &lt;int&gt; |\n",
       "|---|---|\n",
       "| 786 | 1 |\n",
       "| 787 | 1 |\n",
       "| 788 | 1 |\n",
       "| 789 | 1 |\n",
       "\n"
      ],
      "text/plain": [
       "  subj_id n_nans\n",
       "1 786     1     \n",
       "2 787     1     \n",
       "3 788     1     \n",
       "4 789     1     "
      ]
     },
     "metadata": {},
     "output_type": "display_data"
    },
    {
     "data": {
      "text/html": [
       "<table>\n",
       "<caption>A tibble: 4 × 2</caption>\n",
       "<thead>\n",
       "\t<tr><th scope=col>subj_id</th><th scope=col>n_nans</th></tr>\n",
       "\t<tr><th scope=col>&lt;dbl&gt;</th><th scope=col>&lt;int&gt;</th></tr>\n",
       "</thead>\n",
       "<tbody>\n",
       "\t<tr><td>786</td><td>1</td></tr>\n",
       "\t<tr><td>787</td><td>1</td></tr>\n",
       "\t<tr><td>788</td><td>1</td></tr>\n",
       "\t<tr><td>789</td><td>1</td></tr>\n",
       "</tbody>\n",
       "</table>\n"
      ],
      "text/latex": [
       "A tibble: 4 × 2\n",
       "\\begin{tabular}{r|ll}\n",
       " subj\\_id & n\\_nans\\\\\n",
       " <dbl> & <int>\\\\\n",
       "\\hline\n",
       "\t 786 & 1\\\\\n",
       "\t 787 & 1\\\\\n",
       "\t 788 & 1\\\\\n",
       "\t 789 & 1\\\\\n",
       "\\end{tabular}\n"
      ],
      "text/markdown": [
       "\n",
       "A tibble: 4 × 2\n",
       "\n",
       "| subj_id &lt;dbl&gt; | n_nans &lt;int&gt; |\n",
       "|---|---|\n",
       "| 786 | 1 |\n",
       "| 787 | 1 |\n",
       "| 788 | 1 |\n",
       "| 789 | 1 |\n",
       "\n"
      ],
      "text/plain": [
       "  subj_id n_nans\n",
       "1 786     1     \n",
       "2 787     1     \n",
       "3 788     1     \n",
       "4 789     1     "
      ]
     },
     "metadata": {},
     "output_type": "display_data"
    }
   ],
   "source": [
    "reward_df_sorted %>% group_by(subj_id) %>% summarise(n_nans = sum(is.na(cpp_shifted))) \n",
    "reward_df_sorted %>% group_by(subj_id) %>% summarise(n_nans = sum(is.na(ideal_B_shifted))) \n",
    "#there should now only be one na per person if shifted appropriately "
   ]
  },
  {
   "cell_type": "code",
   "execution_count": 104,
   "metadata": {},
   "outputs": [],
   "source": [
    "reward_df_clean = reward_df_sorted[complete.cases(reward_df_sorted), ]"
   ]
  },
  {
   "cell_type": "code",
   "execution_count": 105,
   "metadata": {},
   "outputs": [
    {
     "data": {
      "text/plain": [
       "   \n",
       "    786 787 788 789\n",
       "  0 391 393 395 396\n",
       "  1 382 394 393 395\n",
       "  2 384 391 382 396\n",
       "  3 391 383 380 382\n",
       "  4 383 386 393 383\n",
       "  5 391 383 379 396\n",
       "  6 384 394 387 374\n",
       "  7 389 390 381 380\n",
       "  8 367 394 383 393"
      ]
     },
     "metadata": {},
     "output_type": "display_data"
    }
   ],
   "source": [
    "table(reward_df_clean$reward_code, reward_df_clean$subj_id) #check that each subject has data for all conditions"
   ]
  },
  {
   "cell_type": "code",
   "execution_count": 106,
   "metadata": {},
   "outputs": [
    {
     "data": {
      "text/html": [
       "<ol class=list-inline>\n",
       "\t<li>'trial'</li>\n",
       "\t<li>'subj_id'</li>\n",
       "\t<li>'reward_code'</li>\n",
       "\t<li>'condition'</li>\n",
       "\t<li>'run'</li>\n",
       "\t<li>'LR_choice'</li>\n",
       "\t<li>'value_accuracy'</li>\n",
       "\t<li>'value_LR_solution'</li>\n",
       "\t<li>'reward'</li>\n",
       "\t<li>'cumulative_reward'</li>\n",
       "\t<li>'rt'</li>\n",
       "\t<li>'total_trial_time'</li>\n",
       "\t<li>'iti'</li>\n",
       "\t<li>'cp_list'</li>\n",
       "\t<li>'obs_cp_list'</li>\n",
       "\t<li>'high_val_cue'</li>\n",
       "\t<li>'high_p_cue'</li>\n",
       "\t<li>'p_accuracy'</li>\n",
       "\t<li>'p_LR_solution'</li>\n",
       "\t<li>'p_id_solution'</li>\n",
       "\t<li>'id_choice'</li>\n",
       "\t<li>'stim_duration'</li>\n",
       "\t<li>'stim_onset'</li>\n",
       "\t<li>'stim_offset'</li>\n",
       "\t<li>'abs_response_time'</li>\n",
       "\t<li>'epoch_length'</li>\n",
       "\t<li>'epoch_trial'</li>\n",
       "\t<li>'epoch_number'</li>\n",
       "\t<li>'ideal_B'</li>\n",
       "\t<li>'signed_B_diff'</li>\n",
       "\t<li>'cpp'</li>\n",
       "\t<li>'MC'</li>\n",
       "\t<li>'H'</li>\n",
       "\t<li>'lambda_val'</li>\n",
       "\t<li>'p_optimal'</li>\n",
       "\t<li>'cpp_shifted'</li>\n",
       "\t<li>'ideal_B_shifted'</li>\n",
       "</ol>\n"
      ],
      "text/latex": [
       "\\begin{enumerate*}\n",
       "\\item 'trial'\n",
       "\\item 'subj\\_id'\n",
       "\\item 'reward\\_code'\n",
       "\\item 'condition'\n",
       "\\item 'run'\n",
       "\\item 'LR\\_choice'\n",
       "\\item 'value\\_accuracy'\n",
       "\\item 'value\\_LR\\_solution'\n",
       "\\item 'reward'\n",
       "\\item 'cumulative\\_reward'\n",
       "\\item 'rt'\n",
       "\\item 'total\\_trial\\_time'\n",
       "\\item 'iti'\n",
       "\\item 'cp\\_list'\n",
       "\\item 'obs\\_cp\\_list'\n",
       "\\item 'high\\_val\\_cue'\n",
       "\\item 'high\\_p\\_cue'\n",
       "\\item 'p\\_accuracy'\n",
       "\\item 'p\\_LR\\_solution'\n",
       "\\item 'p\\_id\\_solution'\n",
       "\\item 'id\\_choice'\n",
       "\\item 'stim\\_duration'\n",
       "\\item 'stim\\_onset'\n",
       "\\item 'stim\\_offset'\n",
       "\\item 'abs\\_response\\_time'\n",
       "\\item 'epoch\\_length'\n",
       "\\item 'epoch\\_trial'\n",
       "\\item 'epoch\\_number'\n",
       "\\item 'ideal\\_B'\n",
       "\\item 'signed\\_B\\_diff'\n",
       "\\item 'cpp'\n",
       "\\item 'MC'\n",
       "\\item 'H'\n",
       "\\item 'lambda\\_val'\n",
       "\\item 'p\\_optimal'\n",
       "\\item 'cpp\\_shifted'\n",
       "\\item 'ideal\\_B\\_shifted'\n",
       "\\end{enumerate*}\n"
      ],
      "text/markdown": [
       "1. 'trial'\n",
       "2. 'subj_id'\n",
       "3. 'reward_code'\n",
       "4. 'condition'\n",
       "5. 'run'\n",
       "6. 'LR_choice'\n",
       "7. 'value_accuracy'\n",
       "8. 'value_LR_solution'\n",
       "9. 'reward'\n",
       "10. 'cumulative_reward'\n",
       "11. 'rt'\n",
       "12. 'total_trial_time'\n",
       "13. 'iti'\n",
       "14. 'cp_list'\n",
       "15. 'obs_cp_list'\n",
       "16. 'high_val_cue'\n",
       "17. 'high_p_cue'\n",
       "18. 'p_accuracy'\n",
       "19. 'p_LR_solution'\n",
       "20. 'p_id_solution'\n",
       "21. 'id_choice'\n",
       "22. 'stim_duration'\n",
       "23. 'stim_onset'\n",
       "24. 'stim_offset'\n",
       "25. 'abs_response_time'\n",
       "26. 'epoch_length'\n",
       "27. 'epoch_trial'\n",
       "28. 'epoch_number'\n",
       "29. 'ideal_B'\n",
       "30. 'signed_B_diff'\n",
       "31. 'cpp'\n",
       "32. 'MC'\n",
       "33. 'H'\n",
       "34. 'lambda_val'\n",
       "35. 'p_optimal'\n",
       "36. 'cpp_shifted'\n",
       "37. 'ideal_B_shifted'\n",
       "\n",
       "\n"
      ],
      "text/plain": [
       " [1] \"trial\"             \"subj_id\"           \"reward_code\"      \n",
       " [4] \"condition\"         \"run\"               \"LR_choice\"        \n",
       " [7] \"value_accuracy\"    \"value_LR_solution\" \"reward\"           \n",
       "[10] \"cumulative_reward\" \"rt\"                \"total_trial_time\" \n",
       "[13] \"iti\"               \"cp_list\"           \"obs_cp_list\"      \n",
       "[16] \"high_val_cue\"      \"high_p_cue\"        \"p_accuracy\"       \n",
       "[19] \"p_LR_solution\"     \"p_id_solution\"     \"id_choice\"        \n",
       "[22] \"stim_duration\"     \"stim_onset\"        \"stim_offset\"      \n",
       "[25] \"abs_response_time\" \"epoch_length\"      \"epoch_trial\"      \n",
       "[28] \"epoch_number\"      \"ideal_B\"           \"signed_B_diff\"    \n",
       "[31] \"cpp\"               \"MC\"                \"H\"                \n",
       "[34] \"lambda_val\"        \"p_optimal\"         \"cpp_shifted\"      \n",
       "[37] \"ideal_B_shifted\"  "
      ]
     },
     "metadata": {},
     "output_type": "display_data"
    }
   ],
   "source": [
    "names(reward_df_clean)"
   ]
  },
  {
   "cell_type": "code",
   "execution_count": 108,
   "metadata": {},
   "outputs": [
    {
     "data": {
      "text/plain": [
       "\n",
       "Call:\n",
       "lm(formula = cpp_shifted ~ lambda_val * p_optimal, data = reward_df_clean)\n",
       "\n",
       "Residuals:\n",
       "     Min       1Q   Median       3Q      Max \n",
       "-0.17051 -0.09499 -0.07250 -0.00258  0.89116 \n",
       "\n",
       "Coefficients:\n",
       "                            Estimate Std. Error t value Pr(>|t|)    \n",
       "(Intercept)                 0.218466   0.004762  45.881  < 2e-16 ***\n",
       "lambda_val20               -0.090549   0.006746 -13.423  < 2e-16 ***\n",
       "lambda_val30               -0.113768   0.006758 -16.835  < 2e-16 ***\n",
       "p_optimal0.75              -0.019764   0.006777  -2.917  0.00354 ** \n",
       "p_optimal0.85              -0.035221   0.006773  -5.200 2.02e-07 ***\n",
       "lambda_val20:p_optimal0.75  0.029569   0.009585   3.085  0.00204 ** \n",
       "lambda_val30:p_optimal0.75  0.016338   0.009590   1.704  0.08848 .  \n",
       "lambda_val20:p_optimal0.85  0.018742   0.009586   1.955  0.05059 .  \n",
       "lambda_val30:p_optimal0.85  0.026334   0.009597   2.744  0.00608 ** \n",
       "---\n",
       "Signif. codes:  0 ‘***’ 0.001 ‘**’ 0.01 ‘*’ 0.05 ‘.’ 0.1 ‘ ’ 1\n",
       "\n",
       "Residual standard error: 0.189 on 13929 degrees of freedom\n",
       "Multiple R-squared:  0.05068,\tAdjusted R-squared:  0.05013 \n",
       "F-statistic: 92.94 on 8 and 13929 DF,  p-value: < 2.2e-16\n"
      ]
     },
     "metadata": {},
     "output_type": "display_data"
    },
    {
     "data": {
      "text/plain": [
       "\n",
       "Call:\n",
       "lm(formula = ideal_B_shifted ~ lambda_val * p_optimal, data = reward_df_clean)\n",
       "\n",
       "Residuals:\n",
       "    Min      1Q  Median      3Q     Max \n",
       "-5.8864 -0.7313  0.0593  0.8318  4.3354 \n",
       "\n",
       "Coefficients:\n",
       "                           Estimate Std. Error t value Pr(>|t|)    \n",
       "(Intercept)                 0.35843    0.03170  11.308  < 2e-16 ***\n",
       "lambda_val20                0.09506    0.04490   2.117   0.0343 *  \n",
       "lambda_val30                0.11321    0.04498   2.517   0.0119 *  \n",
       "p_optimal0.75               0.09903    0.04511   2.195   0.0282 *  \n",
       "p_optimal0.85               0.38280    0.04509   8.490  < 2e-16 ***\n",
       "lambda_val20:p_optimal0.75  0.15425    0.06380   2.418   0.0156 *  \n",
       "lambda_val30:p_optimal0.75  0.27448    0.06384   4.300 1.72e-05 ***\n",
       "lambda_val20:p_optimal0.85  0.25000    0.06381   3.918 8.98e-05 ***\n",
       "lambda_val30:p_optimal0.85  0.40201    0.06388   6.293 3.21e-10 ***\n",
       "---\n",
       "Signif. codes:  0 ‘***’ 0.001 ‘**’ 0.01 ‘*’ 0.05 ‘.’ 0.1 ‘ ’ 1\n",
       "\n",
       "Residual standard error: 1.258 on 13929 degrees of freedom\n",
       "Multiple R-squared:  0.05125,\tAdjusted R-squared:  0.0507 \n",
       "F-statistic: 94.04 on 8 and 13929 DF,  p-value: < 2.2e-16\n"
      ]
     },
     "metadata": {},
     "output_type": "display_data"
    }
   ],
   "source": [
    "#sanity check\n",
    "cpp_lm = lm(cpp_shifted ~ lambda_val*p_optimal, data = reward_df_clean)\n",
    "B_lm = lm(ideal_B_shifted ~ lambda_val*p_optimal, data = reward_df_clean)\n",
    "\n",
    "summary(cpp_lm)\n",
    "summary(B_lm)"
   ]
  },
  {
   "cell_type": "code",
   "execution_count": 110,
   "metadata": {},
   "outputs": [
    {
     "name": "stderr",
     "output_type": "stream",
     "text": [
      "`stat_bin()` using `bins = 30`. Pick better value with `binwidth`.\n"
     ]
    },
    {
     "data": {
      "image/png": "[encoded data removed]",
      "text/plain": [
       "plot without title"
      ]
     },
     "metadata": {},
     "output_type": "display_data"
    }
   ],
   "source": [
    "ggplot(reward_df_clean, aes(x=rt)) + geom_histogram() #pretty close to normal"
   ]
  },
  {
   "cell_type": "code",
   "execution_count": 111,
   "metadata": {},
   "outputs": [
    {
     "data": {
      "image/png": "[encoded data removed]",
      "text/plain": [
       "plot without title"
      ]
     },
     "metadata": {},
     "output_type": "display_data"
    }
   ],
   "source": [
    "ggplot(reward_df_clean, aes(sample=rt)) + geom_point(stat = \"qq\") #pretty close to normal"
   ]
  },
  {
   "cell_type": "code",
   "execution_count": 112,
   "metadata": {},
   "outputs": [
    {
     "data": {
      "text/plain": [
       "Linear mixed model fit by REML. t-tests use Satterthwaite's method [\n",
       "lmerModLmerTest]\n",
       "Formula: rt ~ cpp_shifted + (1 | subj_id)\n",
       "   Data: reward_df_clean\n",
       "\n",
       "REML criterion at convergence: -26330.1\n",
       "\n",
       "Scaled residuals: \n",
       "    Min      1Q  Median      3Q     Max \n",
       "-5.3678 -0.7150 -0.0814  0.6455  3.2634 \n",
       "\n",
       "Random effects:\n",
       " Groups   Name        Variance Std.Dev.\n",
       " subj_id  (Intercept) 0.001888 0.04345 \n",
       " Residual             0.008828 0.09396 \n",
       "Number of obs: 13938, groups:  subj_id, 4\n",
       "\n",
       "Fixed effects:\n",
       "              Estimate Std. Error         df t value Pr(>|t|)    \n",
       "(Intercept)  5.037e-01  2.175e-02  3.004e+00  23.162 0.000175 ***\n",
       "cpp_shifted -1.945e-02  4.105e-03  1.393e+04  -4.739 2.17e-06 ***\n",
       "---\n",
       "Signif. codes:  0 ‘***’ 0.001 ‘**’ 0.01 ‘*’ 0.05 ‘.’ 0.1 ‘ ’ 1\n",
       "\n",
       "Correlation of Fixed Effects:\n",
       "            (Intr)\n",
       "cpp_shifted -0.027"
      ]
     },
     "metadata": {},
     "output_type": "display_data"
    },
    {
     "data": {
      "text/plain": [
       "Linear mixed model fit by REML. t-tests use Satterthwaite's method [\n",
       "lmerModLmerTest]\n",
       "Formula: rt ~ ideal_B_shifted + (1 | subj_id)\n",
       "   Data: reward_df_clean\n",
       "\n",
       "REML criterion at convergence: -26340.4\n",
       "\n",
       "Scaled residuals: \n",
       "    Min      1Q  Median      3Q     Max \n",
       "-5.4051 -0.7145 -0.0845  0.6488  3.1959 \n",
       "\n",
       "Random effects:\n",
       " Groups   Name        Variance Std.Dev.\n",
       " subj_id  (Intercept) 0.001887 0.04344 \n",
       " Residual             0.008819 0.09391 \n",
       "Number of obs: 13938, groups:  subj_id, 4\n",
       "\n",
       "Fixed effects:\n",
       "                 Estimate Std. Error        df t value Pr(>|t|)    \n",
       "(Intercept)     4.983e-01  2.174e-02 3.002e+00  22.919 0.000181 ***\n",
       "ideal_B_shifted 3.726e-03  6.162e-04 1.393e+04   6.047 1.51e-09 ***\n",
       "---\n",
       "Signif. codes:  0 ‘***’ 0.001 ‘**’ 0.01 ‘*’ 0.05 ‘.’ 0.1 ‘ ’ 1\n",
       "\n",
       "Correlation of Fixed Effects:\n",
       "            (Intr)\n",
       "idl_B_shftd -0.020"
      ]
     },
     "metadata": {},
     "output_type": "display_data"
    }
   ],
   "source": [
    "#conduct this analysis for each person in a loop or using piping \n",
    "cpp_rt_lm = lmer(rt ~ cpp_shifted + (1|subj_id), data = reward_df_clean)\n",
    "B_rt_lm = lmer(rt ~ ideal_B_shifted + (1|subj_id), data = reward_df_clean)\n",
    "\n",
    "summary(cpp_rt_lm)\n",
    "summary(B_rt_lm)"
   ]
  },
  {
   "cell_type": "code",
   "execution_count": 120,
   "metadata": {},
   "outputs": [
    {
     "name": "stderr",
     "output_type": "stream",
     "text": [
      "Computing bootstrap confidence intervals ...\n",
      "\n",
      "14 warning(s): Model failed to converge with max|grad| = 0.00213482 (tol = 0.002, component 1) (and others)\n",
      "\n"
     ]
    },
    {
     "data": {
      "text/html": [
       "<table>\n",
       "<caption>A matrix: 4 × 2 of type dbl</caption>\n",
       "<thead>\n",
       "\t<tr><th></th><th scope=col>2.5 %</th><th scope=col>97.5 %</th></tr>\n",
       "</thead>\n",
       "<tbody>\n",
       "\t<tr><th scope=row>.sig01</th><td> 0.01193202</td><td> 0.07706466</td></tr>\n",
       "\t<tr><th scope=row>.sigma</th><td> 0.09283470</td><td> 0.09507914</td></tr>\n",
       "\t<tr><th scope=row>(Intercept)</th><td> 0.46047817</td><td> 0.54573384</td></tr>\n",
       "\t<tr><th scope=row>cpp_shifted</th><td>-0.02769288</td><td>-0.01108189</td></tr>\n",
       "</tbody>\n",
       "</table>\n"
      ],
      "text/latex": [
       "A matrix: 4 × 2 of type dbl\n",
       "\\begin{tabular}{r|ll}\n",
       "  & 2.5 \\% & 97.5 \\%\\\\\n",
       "\\hline\n",
       "\t.sig01 &  0.01193202 &  0.07706466\\\\\n",
       "\t.sigma &  0.09283470 &  0.09507914\\\\\n",
       "\t(Intercept) &  0.46047817 &  0.54573384\\\\\n",
       "\tcpp\\_shifted & -0.02769288 & -0.01108189\\\\\n",
       "\\end{tabular}\n"
      ],
      "text/markdown": [
       "\n",
       "A matrix: 4 × 2 of type dbl\n",
       "\n",
       "| <!--/--> | 2.5 % | 97.5 % |\n",
       "|---|---|---|\n",
       "| .sig01 |  0.01193202 |  0.07706466 |\n",
       "| .sigma |  0.09283470 |  0.09507914 |\n",
       "| (Intercept) |  0.46047817 |  0.54573384 |\n",
       "| cpp_shifted | -0.02769288 | -0.01108189 |\n",
       "\n"
      ],
      "text/plain": [
       "            2.5 %       97.5 %     \n",
       ".sig01       0.01193202  0.07706466\n",
       ".sigma       0.09283470  0.09507914\n",
       "(Intercept)  0.46047817  0.54573384\n",
       "cpp_shifted -0.02769288 -0.01108189"
      ]
     },
     "metadata": {},
     "output_type": "display_data"
    },
    {
     "name": "stderr",
     "output_type": "stream",
     "text": [
      "Computing bootstrap confidence intervals ...\n",
      "\n",
      "17 warning(s): Model failed to converge with max|grad| = 0.00213537 (tol = 0.002, component 1) (and others)\n",
      "\n"
     ]
    },
    {
     "data": {
      "text/html": [
       "<table>\n",
       "<caption>A matrix: 4 × 2 of type dbl</caption>\n",
       "<thead>\n",
       "\t<tr><th></th><th scope=col>2.5 %</th><th scope=col>97.5 %</th></tr>\n",
       "</thead>\n",
       "<tbody>\n",
       "\t<tr><th scope=row>.sig01</th><td>0.01143398</td><td>0.077129634</td></tr>\n",
       "\t<tr><th scope=row>.sigma</th><td>0.09279717</td><td>0.095020556</td></tr>\n",
       "\t<tr><th scope=row>(Intercept)</th><td>0.45577778</td><td>0.541661918</td></tr>\n",
       "\t<tr><th scope=row>ideal_B_shifted</th><td>0.00251213</td><td>0.004966427</td></tr>\n",
       "</tbody>\n",
       "</table>\n"
      ],
      "text/latex": [
       "A matrix: 4 × 2 of type dbl\n",
       "\\begin{tabular}{r|ll}\n",
       "  & 2.5 \\% & 97.5 \\%\\\\\n",
       "\\hline\n",
       "\t.sig01 & 0.01143398 & 0.077129634\\\\\n",
       "\t.sigma & 0.09279717 & 0.095020556\\\\\n",
       "\t(Intercept) & 0.45577778 & 0.541661918\\\\\n",
       "\tideal\\_B\\_shifted & 0.00251213 & 0.004966427\\\\\n",
       "\\end{tabular}\n"
      ],
      "text/markdown": [
       "\n",
       "A matrix: 4 × 2 of type dbl\n",
       "\n",
       "| <!--/--> | 2.5 % | 97.5 % |\n",
       "|---|---|---|\n",
       "| .sig01 | 0.01143398 | 0.077129634 |\n",
       "| .sigma | 0.09279717 | 0.095020556 |\n",
       "| (Intercept) | 0.45577778 | 0.541661918 |\n",
       "| ideal_B_shifted | 0.00251213 | 0.004966427 |\n",
       "\n"
      ],
      "text/plain": [
       "                2.5 %      97.5 %     \n",
       ".sig01          0.01143398 0.077129634\n",
       ".sigma          0.09279717 0.095020556\n",
       "(Intercept)     0.45577778 0.541661918\n",
       "ideal_B_shifted 0.00251213 0.004966427"
      ]
     },
     "metadata": {},
     "output_type": "display_data"
    }
   ],
   "source": [
    "confint(cpp_rt_lm, level=0.95, method=\"boot\", nsim = 5000, type = 'parametric')\n",
    "confint(B_rt_lm, level=0.95, method=\"boot\", nsim = 5000)"
   ]
  },
  {
   "cell_type": "code",
   "execution_count": 28,
   "metadata": {},
   "outputs": [
    {
     "data": {
      "text/plain": [
       "Generalized linear mixed model fit by maximum likelihood (Laplace\n",
       "  Approximation) [glmerMod]\n",
       " Family: binomial  ( logit )\n",
       "Formula: p_accuracy ~ cpp + (1 | subj_id)\n",
       "   Data: reward_df_clean\n",
       "\n",
       "     AIC      BIC   logLik deviance df.resid \n",
       " 18816.8  18839.5  -9405.4  18810.8    13939 \n",
       "\n",
       "Scaled residuals: \n",
       "    Min      1Q  Median      3Q     Max \n",
       "-1.3412 -1.1671  0.7523  0.8420  1.1715 \n",
       "\n",
       "Random effects:\n",
       " Groups  Name        Variance Std.Dev.\n",
       " subj_id (Intercept) 0.0374   0.1934  \n",
       "Number of obs: 13942, groups:  subj_id, 4\n",
       "\n",
       "Fixed effects:\n",
       "            Estimate Std. Error z value Pr(>|z|)    \n",
       "(Intercept)  0.39603    0.09903   3.999 6.36e-05 ***\n",
       "cpp         -0.41905    0.08808  -4.757 1.96e-06 ***\n",
       "---\n",
       "Signif. codes:  0 ‘***’ 0.001 ‘**’ 0.01 ‘*’ 0.05 ‘.’ 0.1 ‘ ’ 1\n",
       "\n",
       "Correlation of Fixed Effects:\n",
       "    (Intr)\n",
       "cpp -0.128"
      ]
     },
     "metadata": {},
     "output_type": "display_data"
    },
    {
     "data": {
      "text/plain": [
       "Generalized linear mixed model fit by maximum likelihood (Laplace\n",
       "  Approximation) [glmerMod]\n",
       " Family: binomial  ( logit )\n",
       "Formula: p_accuracy ~ ideal_B + (1 | subj_id)\n",
       "   Data: reward_df_clean\n",
       "\n",
       "     AIC      BIC   logLik deviance df.resid \n",
       " 18568.8  18591.5  -9281.4  18562.8    13939 \n",
       "\n",
       "Scaled residuals: \n",
       "    Min      1Q  Median      3Q     Max \n",
       "-2.0101 -1.1060  0.6895  0.8314  1.7561 \n",
       "\n",
       "Random effects:\n",
       " Groups  Name        Variance Std.Dev.\n",
       " subj_id (Intercept) 0.03849  0.1962  \n",
       "Number of obs: 13942, groups:  subj_id, 4\n",
       "\n",
       "Fixed effects:\n",
       "            Estimate Std. Error z value Pr(>|z|)    \n",
       "(Intercept)  0.18410    0.10004    1.84   0.0657 .  \n",
       "ideal_B      0.22257    0.01371   16.23   <2e-16 ***\n",
       "---\n",
       "Signif. codes:  0 ‘***’ 0.001 ‘**’ 0.01 ‘*’ 0.05 ‘.’ 0.1 ‘ ’ 1\n",
       "\n",
       "Correlation of Fixed Effects:\n",
       "        (Intr)\n",
       "ideal_B -0.090"
      ]
     },
     "metadata": {},
     "output_type": "display_data"
    }
   ],
   "source": [
    "cpp_acc_log = glmer(p_accuracy ~ cpp_shifted + (1|subj_id), data = reward_df_clean, family='binomial')\n",
    "B_acc_log = glmer(p_accuracy ~ ideal_B_shifted + (1|subj_id), data = reward_df_clean, family='binomial')\n",
    "\n",
    "summary(cpp_acc_log)\n",
    "summary(B_acc_log)"
   ]
  },
  {
   "cell_type": "code",
   "execution_count": 29,
   "metadata": {},
   "outputs": [
    {
     "name": "stderr",
     "output_type": "stream",
     "text": [
      "Computing bootstrap confidence intervals ...\n",
      "\n",
      "6 message(s): boundary (singular) fit: see ?isSingular\n",
      "2 warning(s): Model failed to converge with max|grad| = 0.012332 (tol = 0.001, component 1) (and others)\n",
      "\n"
     ]
    },
    {
     "data": {
      "text/html": [
       "<table>\n",
       "<caption>A matrix: 3 × 2 of type dbl</caption>\n",
       "<thead>\n",
       "\t<tr><th></th><th scope=col>2.5 %</th><th scope=col>97.5 %</th></tr>\n",
       "</thead>\n",
       "<tbody>\n",
       "\t<tr><th scope=row>.sig01</th><td> 0.02386729</td><td> 0.3043555</td></tr>\n",
       "\t<tr><th scope=row>(Intercept)</th><td> 0.19888078</td><td> 0.5904220</td></tr>\n",
       "\t<tr><th scope=row>cpp</th><td>-0.59879685</td><td>-0.2445898</td></tr>\n",
       "</tbody>\n",
       "</table>\n"
      ],
      "text/latex": [
       "A matrix: 3 × 2 of type dbl\n",
       "\\begin{tabular}{r|ll}\n",
       "  & 2.5 \\% & 97.5 \\%\\\\\n",
       "\\hline\n",
       "\t.sig01 &  0.02386729 &  0.3043555\\\\\n",
       "\t(Intercept) &  0.19888078 &  0.5904220\\\\\n",
       "\tcpp & -0.59879685 & -0.2445898\\\\\n",
       "\\end{tabular}\n"
      ],
      "text/markdown": [
       "\n",
       "A matrix: 3 × 2 of type dbl\n",
       "\n",
       "| <!--/--> | 2.5 % | 97.5 % |\n",
       "|---|---|---|\n",
       "| .sig01 |  0.02386729 |  0.3043555 |\n",
       "| (Intercept) |  0.19888078 |  0.5904220 |\n",
       "| cpp | -0.59879685 | -0.2445898 |\n",
       "\n"
      ],
      "text/plain": [
       "            2.5 %       97.5 %    \n",
       ".sig01       0.02386729  0.3043555\n",
       "(Intercept)  0.19888078  0.5904220\n",
       "cpp         -0.59879685 -0.2445898"
      ]
     },
     "metadata": {},
     "output_type": "display_data"
    },
    {
     "name": "stderr",
     "output_type": "stream",
     "text": [
      "Computing bootstrap confidence intervals ...\n",
      "\n",
      "4 message(s): boundary (singular) fit: see ?isSingular\n",
      "\n"
     ]
    },
    {
     "data": {
      "text/html": [
       "<table>\n",
       "<caption>A matrix: 3 × 2 of type dbl</caption>\n",
       "<thead>\n",
       "\t<tr><th></th><th scope=col>2.5 %</th><th scope=col>97.5 %</th></tr>\n",
       "</thead>\n",
       "<tbody>\n",
       "\t<tr><th scope=row>.sig01</th><td> 0.03278252</td><td>0.3151235</td></tr>\n",
       "\t<tr><th scope=row>(Intercept)</th><td>-0.01846888</td><td>0.3820776</td></tr>\n",
       "\t<tr><th scope=row>ideal_B</th><td> 0.19614511</td><td>0.2513866</td></tr>\n",
       "</tbody>\n",
       "</table>\n"
      ],
      "text/latex": [
       "A matrix: 3 × 2 of type dbl\n",
       "\\begin{tabular}{r|ll}\n",
       "  & 2.5 \\% & 97.5 \\%\\\\\n",
       "\\hline\n",
       "\t.sig01 &  0.03278252 & 0.3151235\\\\\n",
       "\t(Intercept) & -0.01846888 & 0.3820776\\\\\n",
       "\tideal\\_B &  0.19614511 & 0.2513866\\\\\n",
       "\\end{tabular}\n"
      ],
      "text/markdown": [
       "\n",
       "A matrix: 3 × 2 of type dbl\n",
       "\n",
       "| <!--/--> | 2.5 % | 97.5 % |\n",
       "|---|---|---|\n",
       "| .sig01 |  0.03278252 | 0.3151235 |\n",
       "| (Intercept) | -0.01846888 | 0.3820776 |\n",
       "| ideal_B |  0.19614511 | 0.2513866 |\n",
       "\n"
      ],
      "text/plain": [
       "            2.5 %       97.5 %   \n",
       ".sig01       0.03278252 0.3151235\n",
       "(Intercept) -0.01846888 0.3820776\n",
       "ideal_B      0.19614511 0.2513866"
      ]
     },
     "metadata": {},
     "output_type": "display_data"
    }
   ],
   "source": [
    "confint(cpp_acc_log, level=0.95, method=\"boot\")\n",
    "confint(B_acc_log, level=0.95, method=\"boot\")"
   ]
  },
  {
   "cell_type": "code",
   "execution_count": 33,
   "metadata": {},
   "outputs": [],
   "source": [
    "agg_data_path=paste0(home,'Dropbox/loki_0.5/analysis/aggregated_data/')\n",
    "write.csv(reward_df_clean, file = paste0(agg_data_path, \"reward_ls_combined.csv\"))"
   ]
  },
  {
   "cell_type": "code",
   "execution_count": null,
   "metadata": {},
   "outputs": [],
   "source": []
  }
 ],
 "metadata": {
  "kernelspec": {
   "display_name": "R",
   "language": "R",
   "name": "ir"
  },
  "language_info": {
   "codemirror_mode": "r",
   "file_extension": ".r",
   "mimetype": "text/x-r-source",
   "name": "R",
   "pygments_lexer": "r",
   "version": "3.6.0"
  }
 },
 "nbformat": 4,
 "nbformat_minor": 2
}
