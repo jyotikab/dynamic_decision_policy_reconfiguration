{
 "cells": [
  {
   "cell_type": "code",
   "execution_count": 169,
   "metadata": {},
   "outputs": [],
   "source": [
    "import pandas as pd; import matplotlib.pyplot as plt; import seaborn as sns; import os; \n",
    "from sys import platform; import numpy as np; from scipy.stats import spearmanr;\n",
    "\n",
    "from random import seed"
   ]
  },
  {
   "cell_type": "code",
   "execution_count": 170,
   "metadata": {},
   "outputs": [],
   "source": [
    "home = os.path.expanduser('~/Documents/'); data_dir = os.path.join(home, 'dynamic_decision_policy_reconfiguration/aggregated_data/loki_0')\n",
    "\n",
    "ls_df = pd.read_csv(os.path.join(data_dir, 'ls_reward_df.csv'))"
   ]
  },
  {
   "cell_type": "code",
   "execution_count": 171,
   "metadata": {},
   "outputs": [
    {
     "data": {
      "text/plain": [
       "Index(['cpp', 'b_t0', 'b_t1', 'MC', 'H', 'signed_B_diff', 'ideal_B',\n",
       "       'lambda_val', 'p_optimal', 'trial', 'subj_id', 'reward_code',\n",
       "       'condition', 'run', 'LR_choice', 'value_accuracy', 'value_LR_solution',\n",
       "       'reward', 'cumulative_reward', 'rt', 'total_trial_time', 'iti',\n",
       "       'cp_list', 'obs_cp_list', 'high_val_cue', 'high_p_cue', 'p_accuracy',\n",
       "       'p_LR_solution', 'p_id_solution', 'id_choice', 'stim_duration',\n",
       "       'stim_onset', 'stim_offset', 'abs_response_time', 'epoch_length',\n",
       "       'epoch_trial', 'epoch_number', 'shifted_epoch_trial'],\n",
       "      dtype='object')"
      ]
     },
     "execution_count": 171,
     "metadata": {},
     "output_type": "execute_result"
    }
   ],
   "source": [
    "ls_df.head(); ls_df.columns"
   ]
  },
  {
   "cell_type": "code",
   "execution_count": 172,
   "metadata": {},
   "outputs": [],
   "source": [
    "ls_df_pared = ls_df.loc[(ls_df.shifted_epoch_trial >= -1) & (ls_df.shifted_epoch_trial <= 3)].reset_index(drop=True)"
   ]
  },
  {
   "cell_type": "markdown",
   "metadata": {},
   "source": [
    "## Quantifying the correlation between $\\Delta B$ and $\\Omega$"
   ]
  },
  {
   "cell_type": "code",
   "execution_count": 173,
   "metadata": {},
   "outputs": [
    {
     "data": {
      "text/html": [
       "<div>\n",
       "<style scoped>\n",
       "    .dataframe tbody tr th:only-of-type {\n",
       "        vertical-align: middle;\n",
       "    }\n",
       "\n",
       "    .dataframe tbody tr th {\n",
       "        vertical-align: top;\n",
       "    }\n",
       "\n",
       "    .dataframe thead th {\n",
       "        text-align: right;\n",
       "    }\n",
       "</style>\n",
       "<table border=\"1\" class=\"dataframe\">\n",
       "  <thead>\n",
       "    <tr style=\"text-align: right;\">\n",
       "      <th></th>\n",
       "      <th></th>\n",
       "      <th>ideal_B</th>\n",
       "      <th>cpp</th>\n",
       "    </tr>\n",
       "    <tr>\n",
       "      <th>subj_id</th>\n",
       "      <th></th>\n",
       "      <th></th>\n",
       "      <th></th>\n",
       "    </tr>\n",
       "  </thead>\n",
       "  <tbody>\n",
       "    <tr>\n",
       "      <th rowspan=\"2\" valign=\"top\">786</th>\n",
       "      <th>ideal_B</th>\n",
       "      <td>1.000000</td>\n",
       "      <td>-0.274242</td>\n",
       "    </tr>\n",
       "    <tr>\n",
       "      <th>cpp</th>\n",
       "      <td>-0.274242</td>\n",
       "      <td>1.000000</td>\n",
       "    </tr>\n",
       "    <tr>\n",
       "      <th rowspan=\"2\" valign=\"top\">787</th>\n",
       "      <th>ideal_B</th>\n",
       "      <td>1.000000</td>\n",
       "      <td>-0.247258</td>\n",
       "    </tr>\n",
       "    <tr>\n",
       "      <th>cpp</th>\n",
       "      <td>-0.247258</td>\n",
       "      <td>1.000000</td>\n",
       "    </tr>\n",
       "    <tr>\n",
       "      <th rowspan=\"2\" valign=\"top\">788</th>\n",
       "      <th>ideal_B</th>\n",
       "      <td>1.000000</td>\n",
       "      <td>-0.194763</td>\n",
       "    </tr>\n",
       "    <tr>\n",
       "      <th>cpp</th>\n",
       "      <td>-0.194763</td>\n",
       "      <td>1.000000</td>\n",
       "    </tr>\n",
       "    <tr>\n",
       "      <th rowspan=\"2\" valign=\"top\">789</th>\n",
       "      <th>ideal_B</th>\n",
       "      <td>1.000000</td>\n",
       "      <td>-0.220673</td>\n",
       "    </tr>\n",
       "    <tr>\n",
       "      <th>cpp</th>\n",
       "      <td>-0.220673</td>\n",
       "      <td>1.000000</td>\n",
       "    </tr>\n",
       "  </tbody>\n",
       "</table>\n",
       "</div>"
      ],
      "text/plain": [
       "                  ideal_B       cpp\n",
       "subj_id                            \n",
       "786     ideal_B  1.000000 -0.274242\n",
       "        cpp     -0.274242  1.000000\n",
       "787     ideal_B  1.000000 -0.247258\n",
       "        cpp     -0.247258  1.000000\n",
       "788     ideal_B  1.000000 -0.194763\n",
       "        cpp     -0.194763  1.000000\n",
       "789     ideal_B  1.000000 -0.220673\n",
       "        cpp     -0.220673  1.000000"
      ]
     },
     "execution_count": 173,
     "metadata": {},
     "output_type": "execute_result"
    }
   ],
   "source": [
    "ls_df_pared.groupby(['subj_id'])[['ideal_B', 'cpp']].corr(method='spearman') # subject-wise correlation "
   ]
  },
  {
   "cell_type": "code",
   "execution_count": 174,
   "metadata": {},
   "outputs": [
    {
     "data": {
      "text/html": [
       "<div>\n",
       "<style scoped>\n",
       "    .dataframe tbody tr th:only-of-type {\n",
       "        vertical-align: middle;\n",
       "    }\n",
       "\n",
       "    .dataframe tbody tr th {\n",
       "        vertical-align: top;\n",
       "    }\n",
       "\n",
       "    .dataframe thead th {\n",
       "        text-align: right;\n",
       "    }\n",
       "</style>\n",
       "<table border=\"1\" class=\"dataframe\">\n",
       "  <thead>\n",
       "    <tr style=\"text-align: right;\">\n",
       "      <th></th>\n",
       "      <th>ideal_B</th>\n",
       "      <th>cpp</th>\n",
       "    </tr>\n",
       "  </thead>\n",
       "  <tbody>\n",
       "    <tr>\n",
       "      <th>ideal_B</th>\n",
       "      <td>1.000000</td>\n",
       "      <td>-0.232458</td>\n",
       "    </tr>\n",
       "    <tr>\n",
       "      <th>cpp</th>\n",
       "      <td>-0.232458</td>\n",
       "      <td>1.000000</td>\n",
       "    </tr>\n",
       "  </tbody>\n",
       "</table>\n",
       "</div>"
      ],
      "text/plain": [
       "          ideal_B       cpp\n",
       "ideal_B  1.000000 -0.232458\n",
       "cpp     -0.232458  1.000000"
      ]
     },
     "execution_count": 174,
     "metadata": {},
     "output_type": "execute_result"
    }
   ],
   "source": [
    "ls_df_pared[['ideal_B', 'cpp']].corr(method='spearman') # pooled correlation"
   ]
  },
  {
   "cell_type": "markdown",
   "metadata": {},
   "source": [
    "## An estimate of confidence "
   ]
  },
  {
   "cell_type": "markdown",
   "metadata": {},
   "source": [
    "### percentile bootstrap of the correlations (95% CI)"
   ]
  },
  {
   "cell_type": "code",
   "execution_count": 175,
   "metadata": {},
   "outputs": [],
   "source": [
    "def pairwise_percentile_bootstrap(x, y, n_resamples=1000, func=spearmanr):\n",
    "    \n",
    "    idx = np.arange(len(x))\n",
    "    size = len(idx)\n",
    "    \n",
    "    resampled_x, resampled_y = list(), list()\n",
    "    \n",
    "    resampled_spearman_r = list() \n",
    "    \n",
    "    for n in range(n_resamples):\n",
    "        \n",
    "        resampled_idx = np.random.choice(idx, size=size, replace=True)   # resample indices with replacement\n",
    "        \n",
    "        resampled_x_n, resampled_y_n = x[resampled_idx], y[resampled_idx] # get resampled values of x & y \n",
    "        \n",
    "        corr_n, _ = spearmanr(resampled_x_n, resampled_y_n) # correlation of resampled values (ignore p-value)\n",
    "        \n",
    "        resampled_x.append(resampled_x_n); resampled_y.append(resampled_y_n) # storing resampled vectors\n",
    "\n",
    "        resampled_spearman_r.append(corr_n) # storing correlation of resampled values\n",
    "    \n",
    "    return resampled_x, resampled_y, resampled_spearman_r"
   ]
  },
  {
   "cell_type": "code",
   "execution_count": 176,
   "metadata": {},
   "outputs": [],
   "source": [
    "def viz_percentiles(resampled_metrics, ci = 95):\n",
    "    \n",
    "    sorted_resampled_metrics = np.sort(resampled_metrics)\n",
    "\n",
    "    lw = 2; font_scale = 1.5\n",
    "    \n",
    "    symmetric_ci = (100 - ci )/ 2 \n",
    "    symmetric_upper_bound, symmetric_lower_bound = 100 - symmetric_ci, symmetric_ci\n",
    "    metric_percentiles = np.percentile(a=sorted_resampled_metrics, q=[symmetric_upper_bound, symmetric_lower_bound])\n",
    "    \n",
    "    mean_metric = np.mean(metric_percentiles)\n",
    "    \n",
    "    sns.set(font_scale=font_scale, style='whitegrid')  \n",
    "\n",
    "    sns.histplot(sorted_resampled_metrics)\n",
    "    plt.axvline(metric_percentiles[0], color='gray',linewidth=lw)\n",
    "    plt.axvline(metric_percentiles[1], color='gray', linewidth=lw)\n",
    "    plt.axvline(mean_metric, color='gray', linewidth=lw)\n",
    "    sns.despine()\n",
    "    \n",
    "    return None"
   ]
  },
  {
   "cell_type": "code",
   "execution_count": 177,
   "metadata": {},
   "outputs": [],
   "source": [
    "x,y = ls_df_pared.cpp, ls_df_pared.ideal_B\n",
    "resampled_x, resampled_y, resampled_spearman_r = pairwise_percentile_bootstrap(x,y)"
   ]
  },
  {
   "cell_type": "code",
   "execution_count": 178,
   "metadata": {},
   "outputs": [
    {
     "data": {
      "text/plain": [
       "Text(0.5, 0, \"Spearman's $\\\\rho_{B\\\\Omega}$\")"
      ]
     },
     "execution_count": 178,
     "metadata": {},
     "output_type": "execute_result"
    },
    {
     "data": {
      "image/png": "[encoded data removed]",
      "text/plain": [
       "<Figure size 432x288 with 1 Axes>"
      ]
     },
     "metadata": {},
     "output_type": "display_data"
    }
   ],
   "source": [
    "viz_percentiles(resampled_spearman_r)\n",
    "plt.xlabel(r\"Spearman's $\\rho_{B\\Omega}$\")"
   ]
  },
  {
   "cell_type": "markdown",
   "metadata": {},
   "source": [
    "### Variance Inflation Factor (VIF) & 95% CI"
   ]
  },
  {
   "cell_type": "code",
   "execution_count": 179,
   "metadata": {},
   "outputs": [],
   "source": [
    "def compute_variance_inflation_factor(correlations):\n",
    "\n",
    "    vifs = [(1 / (1 - r**2)) for r in correlations]\n",
    "\n",
    "    return vifs"
   ]
  },
  {
   "cell_type": "code",
   "execution_count": 180,
   "metadata": {},
   "outputs": [],
   "source": [
    "vifs = compute_variance_inflation_factor(resampled_spearman_r)"
   ]
  },
  {
   "cell_type": "code",
   "execution_count": 181,
   "metadata": {},
   "outputs": [
    {
     "data": {
      "text/plain": [
       "Text(0.5, 0, 'Variance Inflation Factor (VIF)')"
      ]
     },
     "execution_count": 181,
     "metadata": {},
     "output_type": "execute_result"
    },
    {
     "data": {
      "image/png": "[encoded data removed]",
      "text/plain": [
       "<Figure size 432x288 with 1 Axes>"
      ]
     },
     "metadata": {},
     "output_type": "display_data"
    }
   ],
   "source": [
    "viz_percentiles(vifs)\n",
    "plt.xlabel(\"Variance Inflation Factor (VIF)\")"
   ]
  }
 ],
 "metadata": {
  "kernelspec": {
   "display_name": "Python 3",
   "language": "python",
   "name": "python3"
  },
  "language_info": {
   "codemirror_mode": {
    "name": "ipython",
    "version": 3
   },
   "file_extension": ".py",
   "mimetype": "text/x-python",
   "name": "python",
   "nbconvert_exporter": "python",
   "pygments_lexer": "ipython3",
   "version": "3.8.5"
  }
 },
 "nbformat": 4,
 "nbformat_minor": 4
}
